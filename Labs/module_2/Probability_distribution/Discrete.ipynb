{
 "cells": [
  {
   "cell_type": "markdown",
   "metadata": {},
   "source": [
    "# Before your start:\n",
    "\n",
    "    Read the README.md file\n",
    "    Comment as much as you can and use the resources (README.md file)\n",
    "    Happy learning!\n",
    "\n",
    "*Notes:* \n",
    "\n",
    "- Solve the questions with python.\n",
    "\n",
    "- Round the final answer to three decimal places."
   ]
  },
  {
   "cell_type": "markdown",
   "metadata": {},
   "source": [
    "## Bernoulli's Distribution\n",
    "\n",
    "In a basket containing 100 fruits, there are 60 apples and 40 oranges. \n",
    "\n",
    "A fruit is picked randomly from the basket. \n",
    "\n",
    "1. **What is the probability that the fruit is apple?**\n",
    "1. **What is the probability that it is an orange?**"
   ]
  },
  {
   "cell_type": "code",
   "execution_count": null,
   "metadata": {},
   "outputs": [],
   "source": [
    "\"\"\"\n",
    "Calculate:\n",
    "p = probability that the fruit is an apple \n",
    "q = probability that the fruit is an orange\n",
    "\"\"\"\n",
    "\n",
    "p=60/100\n",
    "q=1-p\n",
    "\n",
    "print(\"p=\",p,\" q=\",q)"
   ]
  },
  {
   "cell_type": "markdown",
   "metadata": {},
   "source": [
    "Now we take a random sample of 20 fruits from the basket. After each fruit is taken, a new fruit of the same type is placed in the basket. Therefore, every time we are taking 1 fruit from 100 fruits. \n",
    "\n",
    "1. **What is the probability that the first 5 fruits are all apples?**\n",
    "\n",
    "1. **What is the probability that the first 5 fruits are all apples and the next 15 fruits are all oranges?**\n",
    "\n",
    "You can include the `p` and `q` probabilities you previous calculated in your solution."
   ]
  },
  {
   "cell_type": "code",
   "execution_count": null,
   "metadata": {},
   "outputs": [],
   "source": [
    "# What is the probability that the first 5 fruits are all apples?\n",
    "p1=p**5\n",
    "print(p1)\n",
    "# What is the probability that the first 5 fruits are all apples and the next 15 fruits are all oranges?\n",
    "p2=(p**5)*(q**15)\n",
    "print(p2)"
   ]
  },
  {
   "cell_type": "markdown",
   "metadata": {},
   "source": [
    "## Binomial Distribution\n",
    "\n",
    "Similar to the above problem, this time again we randomly sample 20 fruits.\n",
    "\n",
    "**What is the probability that this time the sample contains 5 apples and 15 oranges?**\n",
    "\n",
    "Please note that this time the order of the fruits being picked does not matter."
   ]
  },
  {
   "cell_type": "code",
   "execution_count": null,
   "metadata": {},
   "outputs": [],
   "source": [
    "from scipy import stats\n",
    "from scipy.stats import binom\n",
    "\n",
    "\"\"\"\n",
    "Formula is C(5 20)*(p**5)*(q**15)\n",
    "\n",
    "\"\"\"\n",
    "\n",
    "n=20\n",
    "binomial = binom(n,p)\n",
    "binomial.pmf(5) # Also checked manual calculation and got the same result of 0.0012944"
   ]
  },
  {
   "cell_type": "markdown",
   "metadata": {},
   "source": [
    "In the lesson we also discussed CDF (cumulative distribution function). In the context of the above problem, **what is the probability that less than 5 fruits picked are apples?**\n",
    "\n",
    "Write the formula and calculate the probability below."
   ]
  },
  {
   "cell_type": "code",
   "execution_count": null,
   "metadata": {},
   "outputs": [],
   "source": [
    "\"\"\"\n",
    "Formula is sum of pmf under 5 = pmf(4)+pmf(3)+pmf(2)+pmf(1)+pmf(0)\n",
    "\n",
    "\"\"\"\n",
    "n=20\n",
    "binomial = binom(n,p)\n",
    "print(\"cdf method:\",binomial.cdf(4))\n",
    "\n",
    "# \"Manual way\" of calculation\n",
    "total=0\n",
    "for i in range(5):\n",
    "    total+=binomial.pmf(i)\n",
    "    \n",
    "print(\"using for loop: \",total)"
   ]
  },
  {
   "cell_type": "markdown",
   "metadata": {},
   "source": [
    "**Plot the PDF (probability distributiom function) for the above binomial distribution.**\n",
    "\n",
    "*Hint: The range of x in a binomial distribution is from `0` to `n`.*"
   ]
  },
  {
   "cell_type": "code",
   "execution_count": null,
   "metadata": {},
   "outputs": [],
   "source": [
    "import numpy as np\n",
    "import matplotlib.pyplot as plt\n",
    "\n",
    "%matplotlib inline\n",
    "\n",
    "n=20\n",
    "\n",
    "x = np.arange(0,21)\n",
    "fig,ax=plt.subplots(1,1)\n",
    "ax.plot(x, binom.pmf(x,n,p),'b+')\n",
    "ax.vlines(x,0,binom.pmf(x,n,p),'b',alpha=0.5)\n",
    "\n",
    "ax.set_title('Probability distribution of getting (x) apples in a sample of 20 fruits')\n",
    "ax.set_xlabel('Number of apples')\n",
    "ax.set_ylabel('Probability of apples')\n",
    "plt.show()"
   ]
  },
  {
   "cell_type": "markdown",
   "metadata": {},
   "source": [
    "## Poisson Distribution\n",
    "\n",
    "In this challenge you are required to use the Math library in python to solve the problems.\n",
    "\n",
    "In the UEFA champions league tournament, the average number of goals scored in a match is 2.3. \n",
    "\n",
    "**What is the probability that the number of goals scored in a match is 5?**\n",
    "\n",
    "*Hint: Use the exp() in the math library*\n",
    "\n",
    "And to calculate the factorial, you can use the following code:\n",
    "\n",
    "```python\n",
    "import math\n",
    "math.factorial(n) # n is the number you want to find the factorial of\n",
    "```"
   ]
  },
  {
   "cell_type": "code",
   "execution_count": null,
   "metadata": {},
   "outputs": [],
   "source": [
    "import math\n",
    "from scipy.stats import poisson\n",
    "\"\"\"\n",
    "Formula is P(k) = λ^k/k!*e^-λ\n",
    "\n",
    "\"\"\"\n",
    "\n",
    "r=2.3\n",
    "k=5\n",
    "\n",
    "# Manually calculating the prob.\n",
    "manual_ppd=((r**k)/math.factorial(k))*math.exp(-r)\n",
    "print(\"manual calcul: \",manual_ppd)\n",
    "\n",
    "# Using the scipy library to check results\n",
    "scipy_object=stats.poisson(r)\n",
    "scipy_ppd=scipy_object.pmf(k)\n",
    "print(\"scipy poisson method: \",scipy_ppd)"
   ]
  },
  {
   "cell_type": "markdown",
   "metadata": {},
   "source": [
    "**Draw a poisson probability distribution plot for the number of goals to be between 0 to 10.**"
   ]
  },
  {
   "cell_type": "code",
   "execution_count": null,
   "metadata": {},
   "outputs": [],
   "source": [
    "x = np.arange(0,11)\n",
    "\n",
    "fig,ax=plt.subplots(1,1)\n",
    "ax.plot(x, poisson.pmf(x,r),'b+')\n",
    "ax.vlines(x, 0, poisson.pmf(x,r), colors='b', alpha=0.5)\n",
    "\n",
    "ax.set_title('Probability distribution for number of (x) goals in a football match')\n",
    "ax.set_xlabel('Number of goals')\n",
    "ax.set_ylabel('Probability of goals')\n",
    "\n",
    "plt.show()"
   ]
  }
 ],
 "metadata": {
  "kernelspec": {
   "display_name": "Python 3",
   "language": "python",
   "name": "python3"
  },
  "language_info": {
   "codemirror_mode": {
    "name": "ipython",
    "version": 3
   },
   "file_extension": ".py",
   "mimetype": "text/x-python",
   "name": "python",
   "nbconvert_exporter": "python",
   "pygments_lexer": "ipython3",
   "version": "3.7.4"
  }
 },
 "nbformat": 4,
 "nbformat_minor": 4
}
