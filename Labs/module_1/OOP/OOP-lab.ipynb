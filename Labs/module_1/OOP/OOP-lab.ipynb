{
 "cells": [
  {
   "cell_type": "markdown",
   "metadata": {},
   "source": [
    "## Remove All The Marked Elements of a List \n",
    "\n",
    "https://www.codewars.com/kata/remove-all-the-marked-elements-of-a-list"
   ]
  },
  {
   "cell_type": "code",
   "execution_count": 12,
   "metadata": {},
   "outputs": [
    {
     "name": "stdout",
     "output_type": "stream",
     "text": [
      "[2, 2, 4]\n"
     ]
    }
   ],
   "source": [
    "integer_list =  [1, 1, 2 ,3 ,1 ,2 ,3 ,4]\n",
    "values_list = [1, 3]\n",
    "\n",
    "class List:\n",
    "    def remove_(self, integer_list, values_list):\n",
    "        #your code here\n",
    "        self.integer_list = integer_list\n",
    "        self.values_list = values_list\n",
    "        \n",
    "        return [i for i in self.integer_list if i not in self.values_list]"
   ]
  },
  {
   "cell_type": "markdown",
   "metadata": {},
   "source": [
    "## Method For Counting Total Occurence Of Specific Digits\n",
    "\n",
    "https://www.codewars.com/kata/method-for-counting-total-occurence-of-specific-digits"
   ]
  },
  {
   "cell_type": "code",
   "execution_count": 105,
   "metadata": {},
   "outputs": [
    {
     "name": "stdout",
     "output_type": "stream",
     "text": [
      "[(1, 7), (8, 5), (4, 0)]\n"
     ]
    }
   ],
   "source": [
    "integers_list =  [-18, -31, 81, -19, 111, -888]\n",
    "digits_list = [1, 8, 4]\n",
    "\n",
    "\n",
    "# Here I transform the intergers_list in a list containing all elements in their absolute value and in the string format\n",
    "lst = [str(abs(i)) for i in integers_list]\n",
    "#for j in integers_list:\n",
    "#    lst.append(str(abs(j)))    \n",
    "#print(lst)\n",
    "\n",
    "\n",
    "# I go through the list and split each number into unique digit, then convert each item in interger\n",
    "unique_digit = [int(digit) for i in lst for digit in i]\n",
    "#print(unique_digit)\n",
    "\n",
    "# I create a new list with the unique values of the list in the right order\n",
    "final_lst = []\n",
    "for d in unique_digit:\n",
    "    if d not in final_lst:\n",
    "        final_lst.append(d)\n",
    "        \n",
    "# For each unique value in my final list, I count the number of occurence in the list containing all the digits and create a tuple if the digit matches with the digits_list\n",
    "print([(i,unique_digit.count(i)) for i in digits_list])\n",
    "    \n",
    "    "
   ]
  },
  {
   "cell_type": "code",
   "execution_count": 115,
   "metadata": {},
   "outputs": [],
   "source": [
    "class List(object):\n",
    "    def count_spec_digits(self, integers_list, digits_list):\n",
    "        # your code here\n",
    "        lst = [str(abs(i)) for i in integers_list]\n",
    "        unique_digit = [int(digit) for i in lst for digit in i]\n",
    "        \n",
    "        final_lst = []\n",
    "        for d in unique_digit:\n",
    "            if d not in final_lst:\n",
    "                final_lst.append(d)\n",
    "                \n",
    "        return [(i,unique_digit.count(i)) for i in digits_list]"
   ]
  },
  {
   "cell_type": "code",
   "execution_count": 114,
   "metadata": {},
   "outputs": [
    {
     "name": "stdout",
     "output_type": "stream",
     "text": [
      "[(1, 7), (8, 5), (4, 0)]\n",
      "-18-3181-19111-888\n"
     ]
    }
   ],
   "source": [
    "#Other solution from a user in Kata\n",
    "s = \"\".join(str(i) for i in integers_list)\n",
    "print([(dig, s.count(str(dig))) for dig in digits_list])"
   ]
  },
  {
   "cell_type": "markdown",
   "metadata": {},
   "source": [
    "## Ordered Count of Characters\n",
    "\n",
    "https://www.codewars.com/kata/ordered-count-of-characters"
   ]
  },
  {
   "cell_type": "code",
   "execution_count": 82,
   "metadata": {},
   "outputs": [
    {
     "name": "stdout",
     "output_type": "stream",
     "text": [
      "[('a', 5), ('b', 2), ('r', 2), ('c', 1), ('d', 1)]\n"
     ]
    }
   ],
   "source": [
    "inp = \"abracadabra\"\n",
    "\n",
    "#[(i,inp.count(i)) for i in set(inp)]\n",
    "\n",
    "lst = []\n",
    "\n",
    "for i in inp:\n",
    "    if i in lst:\n",
    "        continue\n",
    "    else:\n",
    "        lst.append(i)\n",
    "\n",
    "final_lst = [(i,inp.count(i)) for i in lst]\n",
    "#for i in lst:\n",
    "#    final_lst.append((i,inp.count(i)))\n",
    "\n",
    "print(final_lst)"
   ]
  },
  {
   "cell_type": "code",
   "execution_count": 83,
   "metadata": {},
   "outputs": [],
   "source": [
    "def ordered_count(input):\n",
    "    lst = []\n",
    "    for i in input:\n",
    "        if i not in lst:\n",
    "            lst.append(i)\n",
    "    \n",
    "    return [(i,input.count(i)) for i in lst]"
   ]
  },
  {
   "cell_type": "markdown",
   "metadata": {},
   "source": [
    "## Final work \n",
    "\n",
    "Define a class gathering the three function above"
   ]
  },
  {
   "cell_type": "code",
   "execution_count": 122,
   "metadata": {},
   "outputs": [],
   "source": [
    "class List:\n",
    "    def __init__(self, integer_list, value_list):\n",
    "        self.integer_list = integer_list\n",
    "        self.value_list = value_list\n",
    "        \n",
    "    def remove(self):\n",
    "        \n",
    "        return [i for i in self.integer_list if i not in self.value_list]\n",
    "    \n",
    "    \n",
    "    def count_spec_digits(self):\n",
    "        lst = [str(abs(i)) for i in self.integer_list]\n",
    "        unique_digit = [int(digit) for i in lst for digit in i]\n",
    "        \n",
    "        final_lst = []\n",
    "        for d in unique_digit:\n",
    "            if d not in final_lst:\n",
    "                final_lst.append(d)\n",
    "                \n",
    "        return [(i,unique_digit.count(i)) for i in self.value_list]\n",
    "    \n",
    "    def ordered_count(self):\n",
    "        lst = []\n",
    "        for i in self.integer_list:\n",
    "            if i not in lst:\n",
    "                lst.append(i)\n",
    "\n",
    "        return [(i,self.integer_list.count(i)) for i in lst]"
   ]
  },
  {
   "cell_type": "code",
   "execution_count": 123,
   "metadata": {},
   "outputs": [],
   "source": [
    "test = List([1, 1, 2 ,3 ,1 ,2 ,3 ,4],[1, 3])"
   ]
  },
  {
   "cell_type": "code",
   "execution_count": 126,
   "metadata": {},
   "outputs": [
    {
     "data": {
      "text/plain": [
       "[1, 3]"
      ]
     },
     "execution_count": 126,
     "metadata": {},
     "output_type": "execute_result"
    }
   ],
   "source": [
    "test.value_list"
   ]
  },
  {
   "cell_type": "code",
   "execution_count": 127,
   "metadata": {},
   "outputs": [
    {
     "data": {
      "text/plain": [
       "[2, 2, 4]"
      ]
     },
     "execution_count": 127,
     "metadata": {},
     "output_type": "execute_result"
    }
   ],
   "source": [
    "test.remove()"
   ]
  },
  {
   "cell_type": "code",
   "execution_count": 129,
   "metadata": {},
   "outputs": [
    {
     "data": {
      "text/plain": [
       "[1, 1, 2, 3, 1, 2, 3, 4]"
      ]
     },
     "execution_count": 129,
     "metadata": {},
     "output_type": "execute_result"
    }
   ],
   "source": [
    "test.integer_list"
   ]
  },
  {
   "cell_type": "code",
   "execution_count": 130,
   "metadata": {},
   "outputs": [
    {
     "data": {
      "text/plain": [
       "[(1, 3), (3, 2)]"
      ]
     },
     "execution_count": 130,
     "metadata": {},
     "output_type": "execute_result"
    }
   ],
   "source": [
    "test.count_spec_digits()"
   ]
  },
  {
   "cell_type": "code",
   "execution_count": 131,
   "metadata": {},
   "outputs": [
    {
     "data": {
      "text/plain": [
       "[(1, 3), (2, 2), (3, 2), (4, 1)]"
      ]
     },
     "execution_count": 131,
     "metadata": {},
     "output_type": "execute_result"
    }
   ],
   "source": [
    "test.ordered_count()"
   ]
  },
  {
   "cell_type": "code",
   "execution_count": null,
   "metadata": {},
   "outputs": [],
   "source": []
  }
 ],
 "metadata": {
  "kernelspec": {
   "display_name": "Python 3",
   "language": "python",
   "name": "python3"
  },
  "language_info": {
   "codemirror_mode": {
    "name": "ipython",
    "version": 3
   },
   "file_extension": ".py",
   "mimetype": "text/x-python",
   "name": "python",
   "nbconvert_exporter": "python",
   "pygments_lexer": "ipython3",
   "version": "3.7.4"
  }
 },
 "nbformat": 4,
 "nbformat_minor": 2
}
