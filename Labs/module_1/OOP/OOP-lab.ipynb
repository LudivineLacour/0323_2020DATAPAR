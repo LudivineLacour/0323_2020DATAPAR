{
 "cells": [
  {
   "cell_type": "markdown",
   "metadata": {},
   "source": [
    "## Remove All The Marked Elements of a List \n",
    "\n",
    "https://www.codewars.com/kata/remove-all-the-marked-elements-of-a-list"
   ]
  },
  {
   "cell_type": "code",
   "execution_count": 12,
   "metadata": {},
   "outputs": [
    {
     "name": "stdout",
     "output_type": "stream",
     "text": [
      "[2, 2, 4]\n"
     ]
    }
   ],
   "source": [
    "integer_list =  [1, 1, 2 ,3 ,1 ,2 ,3 ,4]\n",
    "values_list = [1, 3]\n",
    "\n",
    "class List:\n",
    "    def remove_(self, integer_list, values_list):\n",
    "        #your code here\n",
    "        self.integer_list = integer_list\n",
    "        self.values_list = values_list\n",
    "        \n",
    "        return [i for i in self.integer_list if i not in self.values_list]"
   ]
  },
  {
   "cell_type": "markdown",
   "metadata": {},
   "source": [
    "## Method For Counting Total Occurence Of Specific Digits\n",
    "\n",
    "https://www.codewars.com/kata/method-for-counting-total-occurence-of-specific-digits"
   ]
  },
  {
   "cell_type": "code",
   "execution_count": 93,
   "metadata": {},
   "outputs": [
    {
     "name": "stdout",
     "output_type": "stream",
     "text": [
      "['18', '31', '81', '19', '111', '888']\n",
      "['1', '8', '3', '1', '8', '1', '1', '9', '1', '1', '1', '8', '8', '8']\n"
     ]
    }
   ],
   "source": [
    "integers_list =  [-18, -31, 81, -19, 111, -888]\n",
    "digits_list = [1, 8, 4]\n",
    "\n",
    "#lst = [(i,integers_list.count(i)) for i digits_list]\n",
    "\n",
    "#for i in digits_list:\n",
    "    #print(i, integers_list.count(i))\n",
    "    #lst.append((i,integers_list.count(i)))\n",
    "    \n",
    "lst = []\n",
    "for j in integers_list:\n",
    "    lst.append(str(abs(j)))\n",
    "    \n",
    "print(lst)\n",
    "\n",
    "dig = [j for i in lst for j in i]\n",
    "print(dig)\n",
    "\n",
    "\n",
    "\n",
    "if lst in dig:\n",
    "    print(lst)"
   ]
  },
  {
   "cell_type": "code",
   "execution_count": 88,
   "metadata": {},
   "outputs": [
    {
     "name": "stdout",
     "output_type": "stream",
     "text": [
      "['1', '11', '111', '111']\n",
      "[1, 1, 1, 1, 1, 1, 1, 1, 1]\n"
     ]
    }
   ],
   "source": [
    "integers_list =  [1, -11, 111, 111]\n",
    "x = [str(abs(i)) for i in integers_list]\n",
    "new = []\n",
    "print(x)\n",
    "print([int(j) for i in x for j in i])"
   ]
  },
  {
   "cell_type": "markdown",
   "metadata": {},
   "source": [
    "## Ordered Count of Characters\n",
    "\n",
    "https://www.codewars.com/kata/ordered-count-of-characters"
   ]
  },
  {
   "cell_type": "code",
   "execution_count": 82,
   "metadata": {},
   "outputs": [
    {
     "name": "stdout",
     "output_type": "stream",
     "text": [
      "[('a', 5), ('b', 2), ('r', 2), ('c', 1), ('d', 1)]\n"
     ]
    }
   ],
   "source": [
    "inp = \"abracadabra\"\n",
    "\n",
    "#[(i,inp.count(i)) for i in set(inp)]\n",
    "\n",
    "lst = []\n",
    "\n",
    "\n",
    "for i in inp:\n",
    "    if i in lst:\n",
    "        continue\n",
    "    else:\n",
    "        lst.append(i)\n",
    "\n",
    "final_lst = [(i,inp.count(i)) for i in lst]\n",
    "#for i in lst:\n",
    "#    final_lst.append((i,inp.count(i)))\n",
    "\n",
    "print(final_lst)"
   ]
  },
  {
   "cell_type": "code",
   "execution_count": 83,
   "metadata": {},
   "outputs": [],
   "source": [
    "def ordered_count(input):\n",
    "    lst = []\n",
    "    for i in input:\n",
    "        if i not in lst:\n",
    "            lst.append(i)\n",
    "    \n",
    "    return [(i,input.count(i)) for i in lst]"
   ]
  },
  {
   "cell_type": "code",
   "execution_count": null,
   "metadata": {},
   "outputs": [],
   "source": []
  }
 ],
 "metadata": {
  "kernelspec": {
   "display_name": "Python 3",
   "language": "python",
   "name": "python3"
  },
  "language_info": {
   "codemirror_mode": {
    "name": "ipython",
    "version": 3
   },
   "file_extension": ".py",
   "mimetype": "text/x-python",
   "name": "python",
   "nbconvert_exporter": "python",
   "pygments_lexer": "ipython3",
   "version": "3.7.4"
  }
 },
 "nbformat": 4,
 "nbformat_minor": 2
}
