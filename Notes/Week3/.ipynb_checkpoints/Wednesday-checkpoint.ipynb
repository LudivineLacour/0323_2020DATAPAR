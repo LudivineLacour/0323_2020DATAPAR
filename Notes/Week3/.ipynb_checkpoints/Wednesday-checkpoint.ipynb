{
 "cells": [
  {
   "cell_type": "code",
   "execution_count": 1,
   "metadata": {},
   "outputs": [],
   "source": [
    "import requests as r\n",
    "import json"
   ]
  },
  {
   "cell_type": "code",
   "execution_count": null,
   "metadata": {},
   "outputs": [],
   "source": [
    "response=r.get('http://jsonplaceholder.typicode.com/todos')"
   ]
  },
  {
   "cell_type": "code",
   "execution_count": null,
   "metadata": {},
   "outputs": [],
   "source": [
    "results=response.json()"
   ]
  },
  {
   "cell_type": "code",
   "execution_count": null,
   "metadata": {},
   "outputs": [],
   "source": [
    "results;"
   ]
  },
  {
   "cell_type": "code",
   "execution_count": 2,
   "metadata": {},
   "outputs": [],
   "source": [
    "import pandas as pd"
   ]
  },
  {
   "cell_type": "code",
   "execution_count": null,
   "metadata": {},
   "outputs": [],
   "source": [
    "pd.DataFrame(results)"
   ]
  },
  {
   "cell_type": "code",
   "execution_count": null,
   "metadata": {},
   "outputs": [],
   "source": [
    "results"
   ]
  },
  {
   "cell_type": "code",
   "execution_count": null,
   "metadata": {},
   "outputs": [],
   "source": [
    "response=r.get('https://api.github.com/events')"
   ]
  },
  {
   "cell_type": "code",
   "execution_count": null,
   "metadata": {},
   "outputs": [],
   "source": [
    "results=response.json()"
   ]
  },
  {
   "cell_type": "code",
   "execution_count": null,
   "metadata": {},
   "outputs": [],
   "source": [
    "results"
   ]
  },
  {
   "cell_type": "code",
   "execution_count": null,
   "metadata": {},
   "outputs": [],
   "source": [
    "df=pd.DataFrame(results)"
   ]
  },
  {
   "cell_type": "code",
   "execution_count": null,
   "metadata": {},
   "outputs": [],
   "source": [
    "def flatten(data,list_col):\n",
    "    for column in list_col:\n",
    "        flattened=pd.DataFrame(dict(data[column])).T\n",
    "        columns=[str(col) for col in flattened.columns]\n",
    "        flattened.columns=[column + '_' + col for col in columns]\n",
    "        data=pd.concat([data,flattened], axis=1)\n",
    "        data=data.drop(column,axis=1)\n",
    "    return data"
   ]
  },
  {
   "cell_type": "code",
   "execution_count": null,
   "metadata": {},
   "outputs": [],
   "source": [
    "flatten(df,['actor','repo','payload','org'])"
   ]
  },
  {
   "cell_type": "code",
   "execution_count": null,
   "metadata": {},
   "outputs": [],
   "source": [
    "pd.json_normalize(results)"
   ]
  },
  {
   "cell_type": "markdown",
   "metadata": {},
   "source": [
    "# Zalando"
   ]
  },
  {
   "cell_type": "code",
   "execution_count": null,
   "metadata": {},
   "outputs": [],
   "source": [
    "url='https://www.zalando.fr/api/catalog/articles?categories=promo-enfant&limit=84&offset=84'"
   ]
  },
  {
   "cell_type": "code",
   "execution_count": null,
   "metadata": {},
   "outputs": [],
   "source": [
    "r.get(url)"
   ]
  },
  {
   "cell_type": "code",
   "execution_count": null,
   "metadata": {},
   "outputs": [],
   "source": [
    "headers=\"\"\"accept: */*\n",
    "accept-encoding: gzip, deflate, br\n",
    "accept-language: en-GB,en-US;q=0.9,en;q=0.8\n",
    "cache-control: no-cache\n",
    "cookie: Zalando-Client-Id=3cda4f85-0064-4783-aaf9-ef19c3813900; ncx=k; bm_sz=8E874FB5F86BB196B586A30A1828DF4B~YAAQPOx7XLz8NR5xAQAAd1+/WAfjh3ZzXB2QCOE0yG69C1ckNKKMuFTeKXnx1ux/Bl9ODuZYvOR1YCkkEq8kQ7DMVFA11pVvjqRrk3xw6ycKnT1LMYc4vp44WJ4pBeGXsBotESD/5mNYCG/bk4srWDr9TN2ZQBOaBqPN4QJ7HKzKjkikTpgvWrkmSIVqljtU; frsx=AAAAADAybZedjiq6qM-21Mzty399mBJMNVBmqlXZRZPNwStfzzbclIL9213FHngO7J7zm62MCts4Id31uQ2IyJwk4psyiELzSStEizAYTXM1EW9b0WFEo1zCseeV1mB7jCE1UN8QSPeDu4NPkVvACXI=; _ga=GA1.2.1549168489.1586331871; ak_bmsc=D79F37902F03D5E2F67274330F0DF13A5C7BEC3C81570000DD808D5EFA45543D~plu0aPqPzScu5niOrgXdOuuYO5hoZt6Y/+wiRv2iUIloMW8q40G6nm+pbpnZjdpSsgPlSSASio4jlddFk7oTyjAyEk+FEJ4UtMy12lp9YtmfCRnEHkT+WbH4a/Vb4+IpqmKuRegUJIf855Yco9Q8Z+ONeIHJHx6htVktIRyNTRfpCb6GVMzdEju4/BLQcBkrKFNVd2WGVfJE2eoGnTO4CWwLEDeTap+EYQquDU6u9vkqJM67pEd15f3EhLC3xKN/vl; _abck=56C3EC87849D50BC89A932660A88A786~-1~YAAQFex7XNs9d1NxAQAALFfFWAOruH9MtI8RnpKPehWdKCgkZ1VQPtInj/2A+1XDjN9p2YuwS8dSGkq/yrdL4Meyo57bk5wo+q6NKJmBLUPIyFFNvsBKwhyeKA3OAW/mNLI2I1pwFnMPHwnSV2AMVX6NP4qtKNXnZizUxVDAg4lw2qjNsol5EcYnsJhFAkXxUgptLhQwm0slymm4RUQx5Y+Xz4PxB9UMCs7J8wHFQTZ4DSkEnBJ4NY0TxrIlPjTcrUFwfG6Nqu10fRIgCxBAhlm8nwmk39Gplz0FE2zHbrnH3UFL+vcXXXcGpSEnOZfKBzB3OHKULTPZX/180mhx47vYJTQ=~-1~-1~-1\n",
    "referer: https://www.zalando.fr/promo-enfant/?p=100\n",
    "user-agent: Mozilla/5.0 (Windows NT 10.0; Win64; x64) AppleWebKit/537.36 (KHTML, like Gecko) Chrome/80.0.3987.116 Safari/537.36 OPR/67.0.3575.105\n",
    "x-xsrf-token: AAAAADAybZedjiq6qM-21Mzty399mBJMNVBmqlXZRZPNwStfzzbclIL9213FHngO7J7zm62MCts4Id31uQ2IyJwk4psyiELzSStEizAYTXM1EW9b0WFEo1zCseeV1mB7jCE1UN8QSPeDu4NPkVvACXI=\n",
    "x-zalando-catalog-nakadi-context: %7B%22previous_categories%22%3A%5B%22promo-enfant%22%5D%2C%22previous_selected_filters%22%3A%5B%5D%2C%22preselected_filters%22%3A%5B%5D%7D\n",
    "x-zalando-octopus-tests: %5B%7B%22testName%22%3A%22lazy-article-images%22%2C%22testVariant%22%3A%22lazy-load%22%2C%22testFeedbackId%22%3A%22930d47c9-bda8-4985-85b5-b6986c76544c%3Aclientid-3cda4f85-0064-4783-aaf9-ef19c3813900%22%7D%2C%7B%22testName%22%3A%22count-test%22%2C%22testVariant%22%3A%22default_count%22%2C%22testFeedbackId%22%3A%2200000000-0000-0000-0000-000000000000%3A__EMPTY__%22%7D%5D\"\"\""
   ]
  },
  {
   "cell_type": "code",
   "execution_count": null,
   "metadata": {},
   "outputs": [],
   "source": [
    "headers=dict([i.split(': ') for i in headers.split('\\n')])"
   ]
  },
  {
   "cell_type": "code",
   "execution_count": null,
   "metadata": {},
   "outputs": [],
   "source": [
    "result=r.get(url, headers=headers).json()"
   ]
  },
  {
   "cell_type": "code",
   "execution_count": null,
   "metadata": {},
   "outputs": [],
   "source": [
    "result"
   ]
  },
  {
   "cell_type": "code",
   "execution_count": null,
   "metadata": {},
   "outputs": [],
   "source": [
    "pd.json_normalize(result)"
   ]
  },
  {
   "cell_type": "code",
   "execution_count": null,
   "metadata": {},
   "outputs": [],
   "source": [
    "result.keys()"
   ]
  },
  {
   "cell_type": "code",
   "execution_count": null,
   "metadata": {},
   "outputs": [],
   "source": [
    "df=pd.json_normalize(result['articles'])"
   ]
  },
  {
   "cell_type": "code",
   "execution_count": null,
   "metadata": {},
   "outputs": [],
   "source": [
    "import time\n",
    "df_final=pd.DataFrame()\n",
    "for i in range(100):\n",
    "    url=f'https://www.zalando.fr/api/catalog/articles?categories=promo-enfant&limit=84&offset={84*i}'\n",
    "    headers=f\"\"\"accept: */*\n",
    "    accept-encoding: gzip, deflate, br\n",
    "    accept-language: en-GB,en-US;q=0.9,en;q=0.8\n",
    "    cache-control: no-cache\n",
    "    cookie: Zalando-Client-Id=3cda4f85-0064-4783-aaf9-ef19c3813900; ncx=k; bm_sz=8E874FB5F86BB196B586A30A1828DF4B~YAAQPOx7XLz8NR5xAQAAd1+/WAfjh3ZzXB2QCOE0yG69C1ckNKKMuFTeKXnx1ux/Bl9ODuZYvOR1YCkkEq8kQ7DMVFA11pVvjqRrk3xw6ycKnT1LMYc4vp44WJ4pBeGXsBotESD/5mNYCG/bk4srWDr9TN2ZQBOaBqPN4QJ7HKzKjkikTpgvWrkmSIVqljtU; frsx=AAAAADAybZedjiq6qM-21Mzty399mBJMNVBmqlXZRZPNwStfzzbclIL9213FHngO7J7zm62MCts4Id31uQ2IyJwk4psyiELzSStEizAYTXM1EW9b0WFEo1zCseeV1mB7jCE1UN8QSPeDu4NPkVvACXI=; _ga=GA1.2.1549168489.1586331871; ak_bmsc=D79F37902F03D5E2F67274330F0DF13A5C7BEC3C81570000DD808D5EFA45543D~plu0aPqPzScu5niOrgXdOuuYO5hoZt6Y/+wiRv2iUIloMW8q40G6nm+pbpnZjdpSsgPlSSASio4jlddFk7oTyjAyEk+FEJ4UtMy12lp9YtmfCRnEHkT+WbH4a/Vb4+IpqmKuRegUJIf855Yco9Q8Z+ONeIHJHx6htVktIRyNTRfpCb6GVMzdEju4/BLQcBkrKFNVd2WGVfJE2eoGnTO4CWwLEDeTap+EYQquDU6u9vkqJM67pEd15f3EhLC3xKN/vl; _abck=56C3EC87849D50BC89A932660A88A786~-1~YAAQFex7XNs9d1NxAQAALFfFWAOruH9MtI8RnpKPehWdKCgkZ1VQPtInj/2A+1XDjN9p2YuwS8dSGkq/yrdL4Meyo57bk5wo+q6NKJmBLUPIyFFNvsBKwhyeKA3OAW/mNLI2I1pwFnMPHwnSV2AMVX6NP4qtKNXnZizUxVDAg4lw2qjNsol5EcYnsJhFAkXxUgptLhQwm0slymm4RUQx5Y+Xz4PxB9UMCs7J8wHFQTZ4DSkEnBJ4NY0TxrIlPjTcrUFwfG6Nqu10fRIgCxBAhlm8nwmk39Gplz0FE2zHbrnH3UFL+vcXXXcGpSEnOZfKBzB3OHKULTPZX/180mhx47vYJTQ=~-1~-1~-1\n",
    "    referer: https://www.zalando.fr/promo-enfant/?p={1 if i<2 else i-1}\n",
    "    user-agent: Mozilla/5.0 (Windows NT 10.0; Win64; x64) AppleWebKit/537.36 (KHTML, like Gecko) Chrome/80.0.3987.116 Safari/537.36 OPR/67.0.3575.105\n",
    "    x-xsrf-token: AAAAADAybZedjiq6qM-21Mzty399mBJMNVBmqlXZRZPNwStfzzbclIL9213FHngO7J7zm62MCts4Id31uQ2IyJwk4psyiELzSStEizAYTXM1EW9b0WFEo1zCseeV1mB7jCE1UN8QSPeDu4NPkVvACXI=\n",
    "    x-zalando-catalog-nakadi-context: %7B%22previous_categories%22%3A%5B%22promo-enfant%22%5D%2C%22previous_selected_filters%22%3A%5B%5D%2C%22preselected_filters%22%3A%5B%5D%7D\n",
    "    x-zalando-octopus-tests: %5B%7B%22testName%22%3A%22lazy-article-images%22%2C%22testVariant%22%3A%22lazy-load%22%2C%22testFeedbackId%22%3A%22930d47c9-bda8-4985-85b5-b6986c76544c%3Aclientid-3cda4f85-0064-4783-aaf9-ef19c3813900%22%7D%2C%7B%22testName%22%3A%22count-test%22%2C%22testVariant%22%3A%22default_count%22%2C%22testFeedbackId%22%3A%2200000000-0000-0000-0000-000000000000%3A__EMPTY__%22%7D%5D\"\"\"\n",
    "    headers=dict([i.strip().split(': ') for i in headers.split('\\n')])\n",
    "    result=r.get(url, headers=headers).json()\n",
    "    df=pd.json_normalize(result['articles'])\n",
    "    df_final=df_final.append(df)\n",
    "    time.sleep(2)\n",
    "    print(i)\n",
    "    "
   ]
  },
  {
   "cell_type": "code",
   "execution_count": null,
   "metadata": {},
   "outputs": [],
   "source": [
    "df_final.shape"
   ]
  },
  {
   "cell_type": "code",
   "execution_count": null,
   "metadata": {},
   "outputs": [],
   "source": [
    "df_final.head()"
   ]
  },
  {
   "cell_type": "code",
   "execution_count": null,
   "metadata": {},
   "outputs": [],
   "source": [
    "df_final"
   ]
  },
  {
   "cell_type": "code",
   "execution_count": null,
   "metadata": {},
   "outputs": [],
   "source": [
    "df_final.sku.duplicated().sum()"
   ]
  },
  {
   "cell_type": "code",
   "execution_count": null,
   "metadata": {},
   "outputs": [],
   "source": []
  },
  {
   "cell_type": "markdown",
   "metadata": {},
   "source": [
    "# Twitch"
   ]
  },
  {
   "cell_type": "code",
   "execution_count": null,
   "metadata": {},
   "outputs": [],
   "source": [
    "url='https://gql.twitch.tv/gql'"
   ]
  },
  {
   "cell_type": "code",
   "execution_count": null,
   "metadata": {},
   "outputs": [],
   "source": [
    "r.post(url)"
   ]
  },
  {
   "cell_type": "code",
   "execution_count": null,
   "metadata": {},
   "outputs": [],
   "source": [
    "headers=\"\"\"Accept: */*\n",
    "Accept-Encoding: gzip, deflate, br\n",
    "Accept-Language: en-GB\n",
    "Cache-Control: no-cache\n",
    "Client-Id: kimne78kx3ncx6brgo4mv6wki5h1ko\n",
    "Connection: keep-alive\n",
    "Content-Length: 2317\n",
    "Content-Type: text/plain;charset=UTF-8\n",
    "Host: gql.twitch.tv\n",
    "Origin: https://www.twitch.tv\n",
    "Pragma: no-cache\n",
    "Referer: https://www.twitch.tv/ponce\n",
    "Sec-Fetch-Dest: empty\n",
    "Sec-Fetch-Mode: cors\n",
    "Sec-Fetch-Site: same-site\n",
    "User-Agent: Mozilla/5.0 (Windows NT 10.0; Win64; x64) AppleWebKit/537.36 (KHTML, like Gecko) Chrome/80.0.3987.116 Safari/537.36\n",
    "X-Device-Id: c2b9ae33c60d0afe\"\"\""
   ]
  },
  {
   "cell_type": "code",
   "execution_count": null,
   "metadata": {},
   "outputs": [],
   "source": [
    "headers=dict([i.split(': ') for i in headers.split('\\n')])"
   ]
  },
  {
   "cell_type": "code",
   "execution_count": null,
   "metadata": {},
   "outputs": [],
   "source": [
    "headers"
   ]
  },
  {
   "cell_type": "code",
   "execution_count": null,
   "metadata": {},
   "outputs": [],
   "source": [
    "[{\"operationName\":\"ActiveWatchParty\",\n",
    "  \"variables\":{\"channelLogin\":\"ponce\"},\n",
    "  \"extensions\":{\"persistedQuery\":{\"version\":1,\n",
    "                                  \"sha256Hash\":\"4a8156c97b19e3a36e081cf6d6ddb5dbf9f9b02ae60e4d2ff26ed70aebc80a30\"}}},\n",
    " {\"operationName\":\"VideoPlayerPixelAnalyticsUrls\",\n",
    "  \"variables\":{\"login\":\"ponce\",\n",
    "               \"allowAmazon\":true,\n",
    "               \"allowComscore\":true,\n",
    "               \"allowGoogle\":true,\n",
    "               \"allowNielsen\":true},\n",
    "  \"extensions\":{\"persistedQuery\":{\"version\":1,\n",
    "                                  \"sha256Hash\":\"bb2a169a523dc7bb6a4369f14548f11b89124aa306b3ab3a7bf1b059e779f296\"}}},\n",
    " {\"operationName\":\"TrackingManager_RequestInfo\",\n",
    "  \"variables\":{},\n",
    "  \"extensions\":{\"persistedQuery\":{\"version\":1,\n",
    "                                  \"sha256Hash\":\"aacdbed250e409105d124ea697ad291a06864c9343067714559fa01230c4cf1b\"}}},\n",
    " {\"operationName\":\"ChannelBanner\",\n",
    "  \"variables\":{\"login\":\"ponce\"},\n",
    "  \"extensions\":{\"persistedQuery\":{\"version\":1,\n",
    "                                  \"sha256Hash\":\"dde2eb1d3084ebcb45574eeb6d13409134ec5d6556662a2db83f46085928c31b\"}}},\n",
    " {\"operationName\":\"ChatList_Badges\",\n",
    "  \"variables\":{\"channelLogin\":\"ponce\"},\n",
    "  \"extensions\":{\"persistedQuery\":{\"version\":1,\n",
    "                                  \"sha256Hash\":\"62a82a08380163ed8911b714a8dc62ccc4c39ab766f42c7388f912baacb771ff\"}}},\n",
    " {\"operationName\":\"ChatInput\",\n",
    "  \"variables\":{\"channelLogin\":\"ponce\",\"isEmbedded\":false},\n",
    "  \"extensions\":{\"persistedQuery\":{\"version\":1,\n",
    "                                  \"sha256Hash\":\"715facdae4eab72a307ef3e98413fbadd924230ca04a356c89d391f0f73c0db1\"}}},\n",
    " {\"operationName\":\"ChannelRoot_ChannelInfoBar\",\n",
    "  \"variables\":{\"login\":\"ponce\"},\n",
    "  \"extensions\":{\"persistedQuery\":{\"version\":1,\n",
    "                                  \"sha256Hash\":\"77b569088a05cff1a6834fcec0d82ef4c5d26b53cd1fecdd607a38ef5bd8ee74\"}}},\n",
    " {\"operationName\":\"Drops_ChannelDrops_User\",\n",
    "  \"variables\":{\"login\":\"ponce\",\"isLoggedIn\":false},\n",
    "  \"extensions\":{\"persistedQuery\":{\"version\":1,\n",
    "                                  \"sha256Hash\":\"f309b1d517d288074d50d96512059857cc67d8905d1379e414d70f7b981f2618\"}}},\n",
    " {\"operationName\":\"Prime_PrimeOffers_PrimeOfferIds\",\n",
    "  \"variables\":{},\n",
    "  \"extensions\":{\"persistedQuery\":{\"version\":1,\n",
    "                                  \"sha256Hash\":\"e9e74571ac09d2d0c1642d30df819bd35622664fa0ac7879f71e312757678142\"}}},\n",
    " {\"operationName\":\"ChannelPollContext_GetViewablePoll\",\n",
    "  \"variables\":{\"login\":\"ponce\"},\n",
    "  \"extensions\":{\"persistedQuery\":{\"version\":1,\n",
    "                                  \"sha256Hash\":\"ab206a1d4cb8e5bab5bcb188cfcd2e1ea42ea2626a5d98298a65d6192a858901\"}}},\n",
    " {\"operationName\":\"ExtensionsForChannelCurrentUser\",\n",
    "  \"variables\":{\"channelID\":\"50597026\"},\n",
    "  \"extensions\":{\"persistedQuery\":{\"version\":1,\n",
    "                                  \"sha256Hash\":\"cd794415959dcdc575179b808647aaef0abdfe5e3aaf70d5f3ffbca43209dc3c\"}}}]"
   ]
  },
  {
   "cell_type": "code",
   "execution_count": null,
   "metadata": {},
   "outputs": [],
   "source": [
    "payload=\"\"\"[{\"operationName\":\"ActiveWatchParty\",\"variables\":{\"channelLogin\":\"ponce\"},\"extensions\":{\"persistedQuery\":{\"version\":1,\"sha256Hash\":\"4a8156c97b19e3a36e081cf6d6ddb5dbf9f9b02ae60e4d2ff26ed70aebc80a30\"}}},{\"operationName\":\"VideoPlayerPixelAnalyticsUrls\",\"variables\":{\"login\":\"ponce\",\"allowAmazon\":true,\"allowComscore\":true,\"allowGoogle\":true,\"allowNielsen\":true},\"extensions\":{\"persistedQuery\":{\"version\":1,\"sha256Hash\":\"bb2a169a523dc7bb6a4369f14548f11b89124aa306b3ab3a7bf1b059e779f296\"}}},{\"operationName\":\"TrackingManager_RequestInfo\",\"variables\":{},\"extensions\":{\"persistedQuery\":{\"version\":1,\"sha256Hash\":\"aacdbed250e409105d124ea697ad291a06864c9343067714559fa01230c4cf1b\"}}},{\"operationName\":\"ChannelBanner\",\"variables\":{\"login\":\"ponce\"},\"extensions\":{\"persistedQuery\":{\"version\":1,\"sha256Hash\":\"dde2eb1d3084ebcb45574eeb6d13409134ec5d6556662a2db83f46085928c31b\"}}},{\"operationName\":\"ChatList_Badges\",\"variables\":{\"channelLogin\":\"ponce\"},\"extensions\":{\"persistedQuery\":{\"version\":1,\"sha256Hash\":\"62a82a08380163ed8911b714a8dc62ccc4c39ab766f42c7388f912baacb771ff\"}}},{\"operationName\":\"ChatInput\",\"variables\":{\"channelLogin\":\"ponce\",\"isEmbedded\":false},\"extensions\":{\"persistedQuery\":{\"version\":1,\"sha256Hash\":\"715facdae4eab72a307ef3e98413fbadd924230ca04a356c89d391f0f73c0db1\"}}},{\"operationName\":\"ChannelRoot_ChannelInfoBar\",\"variables\":{\"login\":\"ponce\"},\"extensions\":{\"persistedQuery\":{\"version\":1,\"sha256Hash\":\"77b569088a05cff1a6834fcec0d82ef4c5d26b53cd1fecdd607a38ef5bd8ee74\"}}},{\"operationName\":\"Drops_ChannelDrops_User\",\"variables\":{\"login\":\"ponce\",\"isLoggedIn\":false},\"extensions\":{\"persistedQuery\":{\"version\":1,\"sha256Hash\":\"f309b1d517d288074d50d96512059857cc67d8905d1379e414d70f7b981f2618\"}}},{\"operationName\":\"Prime_PrimeOffers_PrimeOfferIds\",\"variables\":{},\"extensions\":{\"persistedQuery\":{\"version\":1,\"sha256Hash\":\"e9e74571ac09d2d0c1642d30df819bd35622664fa0ac7879f71e312757678142\"}}},{\"operationName\":\"ChannelPollContext_GetViewablePoll\",\"variables\":{\"login\":\"ponce\"},\"extensions\":{\"persistedQuery\":{\"version\":1,\"sha256Hash\":\"ab206a1d4cb8e5bab5bcb188cfcd2e1ea42ea2626a5d98298a65d6192a858901\"}}},{\"operationName\":\"ExtensionsForChannelCurrentUser\",\"variables\":{\"channelID\":\"50597026\"},\"extensions\":{\"persistedQuery\":{\"version\":1,\"sha256Hash\":\"cd794415959dcdc575179b808647aaef0abdfe5e3aaf70d5f3ffbca43209dc3c\"}}}]\"\"\""
   ]
  },
  {
   "cell_type": "code",
   "execution_count": null,
   "metadata": {},
   "outputs": [],
   "source": [
    "res=r.post(url,headers=headers, data=payload)"
   ]
  },
  {
   "cell_type": "code",
   "execution_count": null,
   "metadata": {
    "scrolled": false
   },
   "outputs": [],
   "source": [
    "len(res.json())"
   ]
  },
  {
   "cell_type": "code",
   "execution_count": null,
   "metadata": {},
   "outputs": [],
   "source": [
    "res.json()[6]"
   ]
  },
  {
   "cell_type": "code",
   "execution_count": null,
   "metadata": {},
   "outputs": [],
   "source": [
    "payload_main=\"\"\"[{\"operationName\":\"ChannelRoot_ChannelInfoBar\",\n",
    "  \"variables\":{\"login\":\"ponce\"},\n",
    "  \"extensions\":{\"persistedQuery\":{\"version\":1,\n",
    "                                  \"sha256Hash\":\"77b569088a05cff1a6834fcec0d82ef4c5d26b53cd1fecdd607a38ef5bd8ee74\"}}}]\"\"\""
   ]
  },
  {
   "cell_type": "code",
   "execution_count": null,
   "metadata": {},
   "outputs": [],
   "source": [
    "res=r.post(url,headers=headers, data=payload_main).json()"
   ]
  },
  {
   "cell_type": "code",
   "execution_count": null,
   "metadata": {},
   "outputs": [],
   "source": [
    "res[0]['data']['user']['id']"
   ]
  },
  {
   "cell_type": "code",
   "execution_count": null,
   "metadata": {},
   "outputs": [],
   "source": [
    "res[0]['data']['user']['profileViewCount']"
   ]
  },
  {
   "cell_type": "code",
   "execution_count": null,
   "metadata": {},
   "outputs": [],
   "source": []
  },
  {
   "cell_type": "code",
   "execution_count": null,
   "metadata": {},
   "outputs": [],
   "source": []
  },
  {
   "cell_type": "markdown",
   "metadata": {},
   "source": [
    "# BeautifulSoup"
   ]
  },
  {
   "cell_type": "code",
   "execution_count": 7,
   "metadata": {},
   "outputs": [],
   "source": [
    "from bs4 import BeautifulSoup"
   ]
  },
  {
   "cell_type": "code",
   "execution_count": null,
   "metadata": {},
   "outputs": [],
   "source": [
    "url=\"https://www.reuters.com/article/us-health-coronavirus-usa-food/from-deliveries-in-arizona-to-fish-markets-in-california-coronavirus-changes-how-we-buy-our-food-idUSKBN21Q1AS\""
   ]
  },
  {
   "cell_type": "code",
   "execution_count": null,
   "metadata": {},
   "outputs": [],
   "source": [
    "html=r.get(url).content"
   ]
  },
  {
   "cell_type": "code",
   "execution_count": null,
   "metadata": {},
   "outputs": [],
   "source": [
    "html[:100]"
   ]
  },
  {
   "cell_type": "code",
   "execution_count": 6,
   "metadata": {},
   "outputs": [],
   "source": [
    "import re"
   ]
  },
  {
   "cell_type": "code",
   "execution_count": null,
   "metadata": {},
   "outputs": [],
   "source": [
    "re.findall(r\"<meta name=\\\"analyticsAttributes\\.title\\\" content=\\\"(.*?)\\\"\",str(html))"
   ]
  },
  {
   "cell_type": "code",
   "execution_count": null,
   "metadata": {},
   "outputs": [],
   "source": [
    "soup=BeautifulSoup(html)"
   ]
  },
  {
   "cell_type": "code",
   "execution_count": null,
   "metadata": {},
   "outputs": [],
   "source": [
    "[i.text for i in soup.select('h1')]"
   ]
  },
  {
   "cell_type": "code",
   "execution_count": null,
   "metadata": {},
   "outputs": [],
   "source": [
    "list_of_tags=[f'h{i}' for i in range(1,8)]+['p']"
   ]
  },
  {
   "cell_type": "code",
   "execution_count": null,
   "metadata": {},
   "outputs": [],
   "source": [
    "list_of_tags"
   ]
  },
  {
   "cell_type": "code",
   "execution_count": null,
   "metadata": {},
   "outputs": [],
   "source": [
    "[i.text for i in soup.find_all(list_of_tags)]"
   ]
  },
  {
   "cell_type": "code",
   "execution_count": null,
   "metadata": {},
   "outputs": [],
   "source": [
    "print('\\n'.join([i.text for i in soup.find_all(list_of_tags)]))"
   ]
  },
  {
   "cell_type": "code",
   "execution_count": null,
   "metadata": {},
   "outputs": [],
   "source": []
  },
  {
   "cell_type": "code",
   "execution_count": 3,
   "metadata": {},
   "outputs": [],
   "source": [
    "url=\"https://en.wikipedia.org/wiki/List_of_European_countries_by_life_expectancy\""
   ]
  },
  {
   "cell_type": "code",
   "execution_count": 4,
   "metadata": {},
   "outputs": [],
   "source": [
    "html=r.get(url).content"
   ]
  },
  {
   "cell_type": "code",
   "execution_count": 8,
   "metadata": {},
   "outputs": [],
   "source": [
    "soup=BeautifulSoup(html)"
   ]
  },
  {
   "cell_type": "code",
   "execution_count": 10,
   "metadata": {},
   "outputs": [
    {
     "data": {
      "text/plain": [
       "<table class=\"sortable wikitable\">\n",
       "<tbody><tr bgcolor=\"#efefef\">\n",
       "<th>Rank\n",
       "</th>\n",
       "<th>Country</th>\n",
       "<th><a href=\"/wiki/List_of_countries_by_life_expectancy\" title=\"List of countries by life expectancy\">Life expectancy</a><sup class=\"reference\" id=\"cite_ref-:0_1-1\"><a href=\"#cite_note-:0-1\">[1]</a></sup>\n",
       "</th></tr>\n",
       "<tr>\n",
       "<td>1\n",
       "</td>\n",
       "<td><span class=\"flagicon\"><img alt=\"\" class=\"thumbborder\" data-file-height=\"800\" data-file-width=\"1000\" decoding=\"async\" height=\"15\" src=\"//upload.wikimedia.org/wikipedia/commons/thumb/e/ea/Flag_of_Monaco.svg/19px-Flag_of_Monaco.svg.png\" srcset=\"//upload.wikimedia.org/wikipedia/commons/thumb/e/ea/Flag_of_Monaco.svg/29px-Flag_of_Monaco.svg.png 1.5x, //upload.wikimedia.org/wikipedia/commons/thumb/e/ea/Flag_of_Monaco.svg/38px-Flag_of_Monaco.svg.png 2x\" width=\"19\"/> </span><a href=\"/wiki/Monaco\" title=\"Monaco\">Monaco</a><sup class=\"reference\" id=\"cite_ref-2\"><a href=\"#cite_note-2\">[2]</a></sup>\n",
       "</td>\n",
       "<td>89.4\n",
       "</td></tr>\n",
       "<tr>\n",
       "<td>2\n",
       "</td>\n",
       "<td><span class=\"flagicon\"><img alt=\"\" class=\"thumbborder\" data-file-height=\"600\" data-file-width=\"800\" decoding=\"async\" height=\"15\" src=\"//upload.wikimedia.org/wikipedia/commons/thumb/b/b1/Flag_of_San_Marino.svg/20px-Flag_of_San_Marino.svg.png\" srcset=\"//upload.wikimedia.org/wikipedia/commons/thumb/b/b1/Flag_of_San_Marino.svg/31px-Flag_of_San_Marino.svg.png 1.5x, //upload.wikimedia.org/wikipedia/commons/thumb/b/b1/Flag_of_San_Marino.svg/40px-Flag_of_San_Marino.svg.png 2x\" width=\"20\"/> </span><a href=\"/wiki/San_Marino\" title=\"San Marino\">San Marino</a><sup class=\"reference\" id=\"cite_ref-3\"><a href=\"#cite_note-3\">[3]</a></sup>\n",
       "</td>\n",
       "<td>83.4\n",
       "</td></tr>\n",
       "<tr>\n",
       "<td>3\n",
       "</td>\n",
       "<td><span class=\"flagicon\"><img alt=\"\" class=\"thumbborder\" data-file-height=\"512\" data-file-width=\"512\" decoding=\"async\" height=\"16\" src=\"//upload.wikimedia.org/wikipedia/commons/thumb/f/f3/Flag_of_Switzerland.svg/16px-Flag_of_Switzerland.svg.png\" srcset=\"//upload.wikimedia.org/wikipedia/commons/thumb/f/f3/Flag_of_Switzerland.svg/24px-Flag_of_Switzerland.svg.png 1.5x, //upload.wikimedia.org/wikipedia/commons/thumb/f/f3/Flag_of_Switzerland.svg/32px-Flag_of_Switzerland.svg.png 2x\" width=\"16\"/>  </span><a href=\"/wiki/Switzerland\" title=\"Switzerland\">Switzerland</a></td>\n",
       "<td>83.0\n",
       "</td></tr>\n",
       "<tr>\n",
       "<td>4\n",
       "</td>\n",
       "<td><span class=\"flagicon\"><img alt=\"\" class=\"thumbborder\" data-file-height=\"500\" data-file-width=\"750\" decoding=\"async\" height=\"15\" src=\"//upload.wikimedia.org/wikipedia/en/thumb/9/9a/Flag_of_Spain.svg/23px-Flag_of_Spain.svg.png\" srcset=\"//upload.wikimedia.org/wikipedia/en/thumb/9/9a/Flag_of_Spain.svg/35px-Flag_of_Spain.svg.png 1.5x, //upload.wikimedia.org/wikipedia/en/thumb/9/9a/Flag_of_Spain.svg/45px-Flag_of_Spain.svg.png 2x\" width=\"23\"/> </span><a href=\"/wiki/Spain\" title=\"Spain\">Spain</a></td>\n",
       "<td>82.8\n",
       "</td></tr>\n",
       "<tr>\n",
       "<td>5\n",
       "</td>\n",
       "<td><span class=\"flagicon\"><img alt=\"\" class=\"thumbborder\" data-file-height=\"600\" data-file-width=\"1000\" decoding=\"async\" height=\"14\" src=\"//upload.wikimedia.org/wikipedia/commons/thumb/4/47/Flag_of_Liechtenstein.svg/23px-Flag_of_Liechtenstein.svg.png\" srcset=\"//upload.wikimedia.org/wikipedia/commons/thumb/4/47/Flag_of_Liechtenstein.svg/35px-Flag_of_Liechtenstein.svg.png 1.5x, //upload.wikimedia.org/wikipedia/commons/thumb/4/47/Flag_of_Liechtenstein.svg/46px-Flag_of_Liechtenstein.svg.png 2x\" width=\"23\"/> </span><a href=\"/wiki/Liechtenstein\" title=\"Liechtenstein\">Liechtenstein</a></td>\n",
       "<td>82.7\n",
       "</td></tr>\n",
       "<tr>\n",
       "<td>6\n",
       "</td>\n",
       "<td><span class=\"flagicon\"><img alt=\"\" class=\"thumbborder\" data-file-height=\"1000\" data-file-width=\"1500\" decoding=\"async\" height=\"15\" src=\"//upload.wikimedia.org/wikipedia/en/thumb/0/03/Flag_of_Italy.svg/23px-Flag_of_Italy.svg.png\" srcset=\"//upload.wikimedia.org/wikipedia/en/thumb/0/03/Flag_of_Italy.svg/35px-Flag_of_Italy.svg.png 1.5x, //upload.wikimedia.org/wikipedia/en/thumb/0/03/Flag_of_Italy.svg/45px-Flag_of_Italy.svg.png 2x\" width=\"23\"/> </span><a href=\"/wiki/Italy\" title=\"Italy\">Italy</a></td>\n",
       "<td>82.5\n",
       "</td></tr>\n",
       "<tr>\n",
       "<td>7\n",
       "</td>\n",
       "<td><span class=\"flagicon\"><img alt=\"\" class=\"thumbborder\" data-file-height=\"800\" data-file-width=\"1100\" decoding=\"async\" height=\"15\" src=\"//upload.wikimedia.org/wikipedia/commons/thumb/d/d9/Flag_of_Norway.svg/21px-Flag_of_Norway.svg.png\" srcset=\"//upload.wikimedia.org/wikipedia/commons/thumb/d/d9/Flag_of_Norway.svg/32px-Flag_of_Norway.svg.png 1.5x, //upload.wikimedia.org/wikipedia/commons/thumb/d/d9/Flag_of_Norway.svg/41px-Flag_of_Norway.svg.png 2x\" width=\"21\"/> </span><a href=\"/wiki/Norway\" title=\"Norway\">Norway</a></td>\n",
       "<td>82.5\n",
       "</td></tr>\n",
       "<tr>\n",
       "<td>8\n",
       "</td>\n",
       "<td><span class=\"flagicon\"><img alt=\"\" class=\"thumbborder\" data-file-height=\"900\" data-file-width=\"1250\" decoding=\"async\" height=\"15\" src=\"//upload.wikimedia.org/wikipedia/commons/thumb/c/ce/Flag_of_Iceland.svg/21px-Flag_of_Iceland.svg.png\" srcset=\"//upload.wikimedia.org/wikipedia/commons/thumb/c/ce/Flag_of_Iceland.svg/32px-Flag_of_Iceland.svg.png 1.5x, //upload.wikimedia.org/wikipedia/commons/thumb/c/ce/Flag_of_Iceland.svg/42px-Flag_of_Iceland.svg.png 2x\" width=\"21\"/> </span><a href=\"/wiki/Iceland\" title=\"Iceland\">Iceland</a></td>\n",
       "<td>82.5\n",
       "</td></tr>\n",
       "<tr>\n",
       "<td>9\n",
       "</td>\n",
       "<td><span class=\"flagicon\"><img alt=\"\" class=\"thumbborder\" data-file-height=\"600\" data-file-width=\"1000\" decoding=\"async\" height=\"14\" src=\"//upload.wikimedia.org/wikipedia/commons/thumb/d/da/Flag_of_Luxembourg.svg/23px-Flag_of_Luxembourg.svg.png\" srcset=\"//upload.wikimedia.org/wikipedia/commons/thumb/d/da/Flag_of_Luxembourg.svg/35px-Flag_of_Luxembourg.svg.png 1.5x, //upload.wikimedia.org/wikipedia/commons/thumb/d/da/Flag_of_Luxembourg.svg/46px-Flag_of_Luxembourg.svg.png 2x\" width=\"23\"/> </span><a href=\"/wiki/Luxembourg\" title=\"Luxembourg\">Luxembourg</a></td>\n",
       "<td>82.3\n",
       "</td></tr>\n",
       "<tr>\n",
       "<td>10\n",
       "</td>\n",
       "<td><span class=\"flagicon\"><img alt=\"\" class=\"thumbborder\" data-file-height=\"600\" data-file-width=\"900\" decoding=\"async\" height=\"15\" src=\"//upload.wikimedia.org/wikipedia/en/thumb/c/c3/Flag_of_France.svg/23px-Flag_of_France.svg.png\" srcset=\"//upload.wikimedia.org/wikipedia/en/thumb/c/c3/Flag_of_France.svg/35px-Flag_of_France.svg.png 1.5x, //upload.wikimedia.org/wikipedia/en/thumb/c/c3/Flag_of_France.svg/45px-Flag_of_France.svg.png 2x\" width=\"23\"/> </span><a href=\"/wiki/France\" title=\"France\">France</a></td>\n",
       "<td>82.3\n",
       "</td></tr>\n",
       "<tr>\n",
       "<td>11\n",
       "</td>\n",
       "<td><span class=\"flagicon\"><img alt=\"\" class=\"thumbborder\" data-file-height=\"1000\" data-file-width=\"1600\" decoding=\"async\" height=\"14\" src=\"//upload.wikimedia.org/wikipedia/en/thumb/4/4c/Flag_of_Sweden.svg/23px-Flag_of_Sweden.svg.png\" srcset=\"//upload.wikimedia.org/wikipedia/en/thumb/4/4c/Flag_of_Sweden.svg/35px-Flag_of_Sweden.svg.png 1.5x, //upload.wikimedia.org/wikipedia/en/thumb/4/4c/Flag_of_Sweden.svg/46px-Flag_of_Sweden.svg.png 2x\" width=\"23\"/> </span><a href=\"/wiki/Sweden\" title=\"Sweden\">Sweden</a></td>\n",
       "<td>82.2\n",
       "</td></tr>\n",
       "<tr>\n",
       "<td>12\n",
       "</td>\n",
       "<td><span class=\"flagicon\"><img alt=\"\" class=\"thumbborder\" data-file-height=\"600\" data-file-width=\"900\" decoding=\"async\" height=\"15\" src=\"//upload.wikimedia.org/wikipedia/commons/thumb/7/73/Flag_of_Malta.svg/23px-Flag_of_Malta.svg.png\" srcset=\"//upload.wikimedia.org/wikipedia/commons/thumb/7/73/Flag_of_Malta.svg/35px-Flag_of_Malta.svg.png 1.5x, //upload.wikimedia.org/wikipedia/commons/thumb/7/73/Flag_of_Malta.svg/45px-Flag_of_Malta.svg.png 2x\" width=\"23\"/> </span><a href=\"/wiki/Malta\" title=\"Malta\">Malta</a></td>\n",
       "<td>81.8\n",
       "</td></tr>\n",
       "<tr>\n",
       "<td>13\n",
       "</td>\n",
       "<td><span class=\"flagicon\"><img alt=\"\" class=\"thumbborder\" data-file-height=\"1100\" data-file-width=\"1800\" decoding=\"async\" height=\"14\" src=\"//upload.wikimedia.org/wikipedia/commons/thumb/b/bc/Flag_of_Finland.svg/23px-Flag_of_Finland.svg.png\" srcset=\"//upload.wikimedia.org/wikipedia/commons/thumb/b/bc/Flag_of_Finland.svg/35px-Flag_of_Finland.svg.png 1.5x, //upload.wikimedia.org/wikipedia/commons/thumb/b/bc/Flag_of_Finland.svg/46px-Flag_of_Finland.svg.png 2x\" width=\"23\"/> </span><a href=\"/wiki/Finland\" title=\"Finland\">Finland</a></td>\n",
       "<td>81.8\n",
       "</td></tr>\n",
       "<tr>\n",
       "<td>14\n",
       "</td>\n",
       "<td><span class=\"flagicon\"><img alt=\"\" class=\"thumbborder\" data-file-height=\"600\" data-file-width=\"1200\" decoding=\"async\" height=\"12\" src=\"//upload.wikimedia.org/wikipedia/commons/thumb/4/45/Flag_of_Ireland.svg/23px-Flag_of_Ireland.svg.png\" srcset=\"//upload.wikimedia.org/wikipedia/commons/thumb/4/45/Flag_of_Ireland.svg/35px-Flag_of_Ireland.svg.png 1.5x, //upload.wikimedia.org/wikipedia/commons/thumb/4/45/Flag_of_Ireland.svg/46px-Flag_of_Ireland.svg.png 2x\" width=\"23\"/> </span><a href=\"/wiki/Republic_of_Ireland\" title=\"Republic of Ireland\">Ireland</a></td>\n",
       "<td>81.6\n",
       "</td></tr>\n",
       "<tr>\n",
       "<td>15\n",
       "</td>\n",
       "<td><span class=\"flagicon\"><img alt=\"\" class=\"thumbborder\" data-file-height=\"600\" data-file-width=\"900\" decoding=\"async\" height=\"15\" src=\"//upload.wikimedia.org/wikipedia/commons/thumb/2/20/Flag_of_the_Netherlands.svg/23px-Flag_of_the_Netherlands.svg.png\" srcset=\"//upload.wikimedia.org/wikipedia/commons/thumb/2/20/Flag_of_the_Netherlands.svg/35px-Flag_of_the_Netherlands.svg.png 1.5x, //upload.wikimedia.org/wikipedia/commons/thumb/2/20/Flag_of_the_Netherlands.svg/45px-Flag_of_the_Netherlands.svg.png 2x\" width=\"23\"/> </span><a href=\"/wiki/Netherlands\" title=\"Netherlands\">Netherlands</a></td>\n",
       "<td>81.5\n",
       "</td></tr>\n",
       "<tr>\n",
       "<td>16\n",
       "</td>\n",
       "<td><span class=\"flagicon\"><img alt=\"\" class=\"thumbborder\" data-file-height=\"400\" data-file-width=\"600\" decoding=\"async\" height=\"15\" src=\"//upload.wikimedia.org/wikipedia/commons/thumb/5/5c/Flag_of_Portugal.svg/23px-Flag_of_Portugal.svg.png\" srcset=\"//upload.wikimedia.org/wikipedia/commons/thumb/5/5c/Flag_of_Portugal.svg/35px-Flag_of_Portugal.svg.png 1.5x, //upload.wikimedia.org/wikipedia/commons/thumb/5/5c/Flag_of_Portugal.svg/45px-Flag_of_Portugal.svg.png 2x\" width=\"23\"/> </span><a href=\"/wiki/Portugal\" title=\"Portugal\">Portugal</a></td>\n",
       "<td>81.1\n",
       "</td></tr>\n",
       "<tr>\n",
       "<td>17\n",
       "</td>\n",
       "<td><span class=\"flagicon\"><img alt=\"\" class=\"thumbborder\" data-file-height=\"400\" data-file-width=\"600\" decoding=\"async\" height=\"15\" src=\"//upload.wikimedia.org/wikipedia/commons/thumb/5/5c/Flag_of_Greece.svg/23px-Flag_of_Greece.svg.png\" srcset=\"//upload.wikimedia.org/wikipedia/commons/thumb/5/5c/Flag_of_Greece.svg/35px-Flag_of_Greece.svg.png 1.5x, //upload.wikimedia.org/wikipedia/commons/thumb/5/5c/Flag_of_Greece.svg/45px-Flag_of_Greece.svg.png 2x\" width=\"23\"/> </span><a href=\"/wiki/Greece\" title=\"Greece\">Greece</a></td>\n",
       "<td>81.0\n",
       "</td></tr>\n",
       "<tr>\n",
       "<td>18\n",
       "</td>\n",
       "<td><span class=\"flagicon\"><img alt=\"\" class=\"thumbborder\" data-file-height=\"600\" data-file-width=\"1200\" decoding=\"async\" height=\"12\" src=\"//upload.wikimedia.org/wikipedia/en/thumb/a/ae/Flag_of_the_United_Kingdom.svg/23px-Flag_of_the_United_Kingdom.svg.png\" srcset=\"//upload.wikimedia.org/wikipedia/en/thumb/a/ae/Flag_of_the_United_Kingdom.svg/35px-Flag_of_the_United_Kingdom.svg.png 1.5x, //upload.wikimedia.org/wikipedia/en/thumb/a/ae/Flag_of_the_United_Kingdom.svg/46px-Flag_of_the_United_Kingdom.svg.png 2x\" width=\"23\"/> </span><a href=\"/wiki/United_Kingdom\" title=\"United Kingdom\">United Kingdom</a></td>\n",
       "<td>81.0\n",
       "</td></tr>\n",
       "<tr>\n",
       "<td>19\n",
       "</td>\n",
       "<td><span class=\"flagicon\"><img alt=\"\" class=\"thumbborder\" data-file-height=\"600\" data-file-width=\"900\" decoding=\"async\" height=\"15\" src=\"//upload.wikimedia.org/wikipedia/commons/thumb/9/92/Flag_of_Belgium_%28civil%29.svg/23px-Flag_of_Belgium_%28civil%29.svg.png\" srcset=\"//upload.wikimedia.org/wikipedia/commons/thumb/9/92/Flag_of_Belgium_%28civil%29.svg/35px-Flag_of_Belgium_%28civil%29.svg.png 1.5x, //upload.wikimedia.org/wikipedia/commons/thumb/9/92/Flag_of_Belgium_%28civil%29.svg/45px-Flag_of_Belgium_%28civil%29.svg.png 2x\" width=\"23\"/> </span><a href=\"/wiki/Belgium\" title=\"Belgium\">Belgium</a></td>\n",
       "<td>81.0\n",
       "</td></tr>\n",
       "<tr>\n",
       "<td>20\n",
       "</td>\n",
       "<td><span class=\"flagicon\"><img alt=\"\" class=\"thumbborder\" data-file-height=\"600\" data-file-width=\"900\" decoding=\"async\" height=\"15\" src=\"//upload.wikimedia.org/wikipedia/commons/thumb/4/41/Flag_of_Austria.svg/23px-Flag_of_Austria.svg.png\" srcset=\"//upload.wikimedia.org/wikipedia/commons/thumb/4/41/Flag_of_Austria.svg/35px-Flag_of_Austria.svg.png 1.5x, //upload.wikimedia.org/wikipedia/commons/thumb/4/41/Flag_of_Austria.svg/45px-Flag_of_Austria.svg.png 2x\" width=\"23\"/> </span><a href=\"/wiki/Austria\" title=\"Austria\">Austria</a></td>\n",
       "<td>80.9\n",
       "</td></tr>\n",
       "<tr>\n",
       "<td>21\n",
       "</td>\n",
       "<td><span class=\"flagicon\"><img alt=\"\" class=\"thumbborder\" data-file-height=\"600\" data-file-width=\"1200\" decoding=\"async\" height=\"12\" src=\"//upload.wikimedia.org/wikipedia/commons/thumb/f/f0/Flag_of_Slovenia.svg/23px-Flag_of_Slovenia.svg.png\" srcset=\"//upload.wikimedia.org/wikipedia/commons/thumb/f/f0/Flag_of_Slovenia.svg/35px-Flag_of_Slovenia.svg.png 1.5x, //upload.wikimedia.org/wikipedia/commons/thumb/f/f0/Flag_of_Slovenia.svg/46px-Flag_of_Slovenia.svg.png 2x\" width=\"23\"/> </span><a href=\"/wiki/Slovenia\" title=\"Slovenia\">Slovenia</a></td>\n",
       "<td>80.8\n",
       "</td></tr>\n",
       "<tr>\n",
       "<td>22\n",
       "</td>\n",
       "<td><span class=\"flagicon\"><img alt=\"\" class=\"thumbborder\" data-file-height=\"387\" data-file-width=\"512\" decoding=\"async\" height=\"15\" src=\"//upload.wikimedia.org/wikipedia/commons/thumb/9/9c/Flag_of_Denmark.svg/20px-Flag_of_Denmark.svg.png\" srcset=\"//upload.wikimedia.org/wikipedia/commons/thumb/9/9c/Flag_of_Denmark.svg/31px-Flag_of_Denmark.svg.png 1.5x, //upload.wikimedia.org/wikipedia/commons/thumb/9/9c/Flag_of_Denmark.svg/40px-Flag_of_Denmark.svg.png 2x\" width=\"20\"/> </span><a href=\"/wiki/Denmark\" title=\"Denmark\">Denmark</a></td>\n",
       "<td>80.7\n",
       "</td></tr>\n",
       "<tr>\n",
       "<td>23\n",
       "</td>\n",
       "<td><span class=\"flagicon\"><img alt=\"\" class=\"thumbborder\" data-file-height=\"600\" data-file-width=\"1000\" decoding=\"async\" height=\"14\" src=\"//upload.wikimedia.org/wikipedia/en/thumb/b/ba/Flag_of_Germany.svg/23px-Flag_of_Germany.svg.png\" srcset=\"//upload.wikimedia.org/wikipedia/en/thumb/b/ba/Flag_of_Germany.svg/35px-Flag_of_Germany.svg.png 1.5x, //upload.wikimedia.org/wikipedia/en/thumb/b/ba/Flag_of_Germany.svg/46px-Flag_of_Germany.svg.png 2x\" width=\"23\"/> </span><a href=\"/wiki/Germany\" title=\"Germany\">Germany</a></td>\n",
       "<td>80.6\n",
       "</td></tr>\n",
       "<tr>\n",
       "<td>24\n",
       "</td>\n",
       "<td><span class=\"flagicon\"><img alt=\"\" class=\"thumbborder\" data-file-height=\"600\" data-file-width=\"900\" decoding=\"async\" height=\"15\" src=\"//upload.wikimedia.org/wikipedia/commons/thumb/d/d4/Flag_of_Cyprus.svg/23px-Flag_of_Cyprus.svg.png\" srcset=\"//upload.wikimedia.org/wikipedia/commons/thumb/d/d4/Flag_of_Cyprus.svg/35px-Flag_of_Cyprus.svg.png 1.5x, //upload.wikimedia.org/wikipedia/commons/thumb/d/d4/Flag_of_Cyprus.svg/45px-Flag_of_Cyprus.svg.png 2x\" width=\"23\"/> </span><a href=\"/wiki/Cyprus\" title=\"Cyprus\">Cyprus</a></td>\n",
       "<td>80.5\n",
       "</td></tr>\n",
       "<tr>\n",
       "<td>25\n",
       "</td>\n",
       "<td><span class=\"flagicon\"><img alt=\"\" class=\"thumbborder\" data-file-height=\"700\" data-file-width=\"980\" decoding=\"async\" height=\"15\" src=\"//upload.wikimedia.org/wikipedia/commons/thumb/3/36/Flag_of_Albania.svg/21px-Flag_of_Albania.svg.png\" srcset=\"//upload.wikimedia.org/wikipedia/commons/thumb/3/36/Flag_of_Albania.svg/32px-Flag_of_Albania.svg.png 1.5x, //upload.wikimedia.org/wikipedia/commons/thumb/3/36/Flag_of_Albania.svg/42px-Flag_of_Albania.svg.png 2x\" width=\"21\"/> </span><a href=\"/wiki/Albania\" title=\"Albania\">Albania</a></td>\n",
       "<td>78.3\n",
       "</td></tr>\n",
       "<tr>\n",
       "<td>26\n",
       "</td>\n",
       "<td><span class=\"flagicon\"><img alt=\"\" class=\"thumbborder\" data-file-height=\"600\" data-file-width=\"900\" decoding=\"async\" height=\"15\" src=\"//upload.wikimedia.org/wikipedia/commons/thumb/c/cb/Flag_of_the_Czech_Republic.svg/23px-Flag_of_the_Czech_Republic.svg.png\" srcset=\"//upload.wikimedia.org/wikipedia/commons/thumb/c/cb/Flag_of_the_Czech_Republic.svg/35px-Flag_of_the_Czech_Republic.svg.png 1.5x, //upload.wikimedia.org/wikipedia/commons/thumb/c/cb/Flag_of_the_Czech_Republic.svg/45px-Flag_of_the_Czech_Republic.svg.png 2x\" width=\"23\"/> </span><a href=\"/wiki/Czech_Republic\" title=\"Czech Republic\">Czech Republic</a></td>\n",
       "<td>78.3\n",
       "</td></tr>\n",
       "<tr>\n",
       "<td>27\n",
       "</td>\n",
       "<td><span class=\"flagicon\"><img alt=\"\" class=\"thumbborder\" data-file-height=\"600\" data-file-width=\"1200\" decoding=\"async\" height=\"12\" src=\"//upload.wikimedia.org/wikipedia/commons/thumb/1/1b/Flag_of_Croatia.svg/23px-Flag_of_Croatia.svg.png\" srcset=\"//upload.wikimedia.org/wikipedia/commons/thumb/1/1b/Flag_of_Croatia.svg/35px-Flag_of_Croatia.svg.png 1.5x, //upload.wikimedia.org/wikipedia/commons/thumb/1/1b/Flag_of_Croatia.svg/46px-Flag_of_Croatia.svg.png 2x\" width=\"23\"/> </span><a href=\"/wiki/Croatia\" title=\"Croatia\">Croatia</a></td>\n",
       "<td>78.0\n",
       "</td></tr>\n",
       "<tr>\n",
       "<td>28\n",
       "</td>\n",
       "<td><span class=\"flagicon\"><img alt=\"\" class=\"thumbborder\" data-file-height=\"630\" data-file-width=\"990\" decoding=\"async\" height=\"15\" src=\"//upload.wikimedia.org/wikipedia/commons/thumb/8/8f/Flag_of_Estonia.svg/23px-Flag_of_Estonia.svg.png\" srcset=\"//upload.wikimedia.org/wikipedia/commons/thumb/8/8f/Flag_of_Estonia.svg/35px-Flag_of_Estonia.svg.png 1.5x, //upload.wikimedia.org/wikipedia/commons/thumb/8/8f/Flag_of_Estonia.svg/46px-Flag_of_Estonia.svg.png 2x\" width=\"23\"/> </span><a href=\"/wiki/Estonia\" title=\"Estonia\">Estonia</a></td>\n",
       "<td>77.7\n",
       "</td></tr>\n",
       "<tr>\n",
       "<td>29\n",
       "</td>\n",
       "<td><span class=\"flagicon\"><img alt=\"\" class=\"thumbborder\" data-file-height=\"800\" data-file-width=\"1280\" decoding=\"async\" height=\"14\" src=\"//upload.wikimedia.org/wikipedia/en/thumb/1/12/Flag_of_Poland.svg/23px-Flag_of_Poland.svg.png\" srcset=\"//upload.wikimedia.org/wikipedia/en/thumb/1/12/Flag_of_Poland.svg/35px-Flag_of_Poland.svg.png 1.5x, //upload.wikimedia.org/wikipedia/en/thumb/1/12/Flag_of_Poland.svg/46px-Flag_of_Poland.svg.png 2x\" width=\"23\"/> </span><a href=\"/wiki/Poland\" title=\"Poland\">Poland</a></td>\n",
       "<td>77.5\n",
       "</td></tr>\n",
       "<tr>\n",
       "<td>30\n",
       "</td>\n",
       "<td><span class=\"flagicon\"><img alt=\"\" class=\"thumbborder\" data-file-height=\"320\" data-file-width=\"640\" decoding=\"async\" height=\"12\" src=\"//upload.wikimedia.org/wikipedia/commons/thumb/6/64/Flag_of_Montenegro.svg/23px-Flag_of_Montenegro.svg.png\" srcset=\"//upload.wikimedia.org/wikipedia/commons/thumb/6/64/Flag_of_Montenegro.svg/35px-Flag_of_Montenegro.svg.png 1.5x, //upload.wikimedia.org/wikipedia/commons/thumb/6/64/Flag_of_Montenegro.svg/46px-Flag_of_Montenegro.svg.png 2x\" width=\"23\"/> </span><a href=\"/wiki/Montenegro\" title=\"Montenegro\">Montenegro</a></td>\n",
       "<td>77.1\n",
       "</td></tr>\n",
       "<tr>\n",
       "<td>31\n",
       "</td>\n",
       "<td><span class=\"flagicon\"><img alt=\"\" class=\"thumbborder\" data-file-height=\"400\" data-file-width=\"800\" decoding=\"async\" height=\"12\" src=\"//upload.wikimedia.org/wikipedia/commons/thumb/b/bf/Flag_of_Bosnia_and_Herzegovina.svg/23px-Flag_of_Bosnia_and_Herzegovina.svg.png\" srcset=\"//upload.wikimedia.org/wikipedia/commons/thumb/b/bf/Flag_of_Bosnia_and_Herzegovina.svg/35px-Flag_of_Bosnia_and_Herzegovina.svg.png 1.5x, //upload.wikimedia.org/wikipedia/commons/thumb/b/bf/Flag_of_Bosnia_and_Herzegovina.svg/46px-Flag_of_Bosnia_and_Herzegovina.svg.png 2x\" width=\"23\"/> </span><a href=\"/wiki/Bosnia_and_Herzegovina\" title=\"Bosnia and Herzegovina\">Bosnia and Herzegovina</a></td>\n",
       "<td>76.9\n",
       "</td></tr>\n",
       "<tr>\n",
       "<td>32\n",
       "</td>\n",
       "<td><span class=\"flagicon\"><img alt=\"\" class=\"thumbborder\" data-file-height=\"341\" data-file-width=\"512\" decoding=\"async\" height=\"15\" src=\"//upload.wikimedia.org/wikipedia/commons/thumb/e/e6/Flag_of_Slovakia.svg/23px-Flag_of_Slovakia.svg.png\" srcset=\"//upload.wikimedia.org/wikipedia/commons/thumb/e/e6/Flag_of_Slovakia.svg/35px-Flag_of_Slovakia.svg.png 1.5x, //upload.wikimedia.org/wikipedia/commons/thumb/e/e6/Flag_of_Slovakia.svg/45px-Flag_of_Slovakia.svg.png 2x\" width=\"23\"/> </span><a href=\"/wiki/Slovakia\" title=\"Slovakia\">Slovakia</a></td>\n",
       "<td>76.6\n",
       "</td></tr>\n",
       "<tr>\n",
       "<td>33\n",
       "</td>\n",
       "<td><span class=\"flagicon\"><img alt=\"\" class=\"thumbborder\" data-file-height=\"800\" data-file-width=\"1200\" decoding=\"async\" height=\"15\" src=\"//upload.wikimedia.org/wikipedia/commons/thumb/b/b4/Flag_of_Turkey.svg/23px-Flag_of_Turkey.svg.png\" srcset=\"//upload.wikimedia.org/wikipedia/commons/thumb/b/b4/Flag_of_Turkey.svg/35px-Flag_of_Turkey.svg.png 1.5x, //upload.wikimedia.org/wikipedia/commons/thumb/b/b4/Flag_of_Turkey.svg/45px-Flag_of_Turkey.svg.png 2x\" width=\"23\"/> </span><a href=\"/wiki/Turkey\" title=\"Turkey\">Turkey</a></td>\n",
       "<td>75.8\n",
       "</td></tr>\n",
       "<tr>\n",
       "<td>34\n",
       "</td>\n",
       "<td><span class=\"flagicon\"><img alt=\"\" class=\"thumbborder\" data-file-height=\"600\" data-file-width=\"1200\" decoding=\"async\" height=\"12\" src=\"//upload.wikimedia.org/wikipedia/commons/thumb/7/79/Flag_of_North_Macedonia.svg/23px-Flag_of_North_Macedonia.svg.png\" srcset=\"//upload.wikimedia.org/wikipedia/commons/thumb/7/79/Flag_of_North_Macedonia.svg/35px-Flag_of_North_Macedonia.svg.png 1.5x, //upload.wikimedia.org/wikipedia/commons/thumb/7/79/Flag_of_North_Macedonia.svg/46px-Flag_of_North_Macedonia.svg.png 2x\" width=\"23\"/> </span><a href=\"/wiki/North_Macedonia\" title=\"North Macedonia\">North Macedonia</a></td>\n",
       "<td>75.7\n",
       "</td></tr>\n",
       "<tr>\n",
       "<td>35\n",
       "</td>\n",
       "<td><span class=\"flagicon\"><img alt=\"\" class=\"thumbborder\" data-file-height=\"600\" data-file-width=\"1200\" decoding=\"async\" height=\"12\" src=\"//upload.wikimedia.org/wikipedia/commons/thumb/c/c1/Flag_of_Hungary.svg/23px-Flag_of_Hungary.svg.png\" srcset=\"//upload.wikimedia.org/wikipedia/commons/thumb/c/c1/Flag_of_Hungary.svg/35px-Flag_of_Hungary.svg.png 1.5x, //upload.wikimedia.org/wikipedia/commons/thumb/c/c1/Flag_of_Hungary.svg/46px-Flag_of_Hungary.svg.png 2x\" width=\"23\"/> </span><a href=\"/wiki/Hungary\" title=\"Hungary\">Hungary</a></td>\n",
       "<td>75.6\n",
       "</td></tr>\n",
       "<tr>\n",
       "<td>36\n",
       "</td>\n",
       "<td><span class=\"flagicon\"><img alt=\"\" class=\"thumbborder\" data-file-height=\"630\" data-file-width=\"945\" decoding=\"async\" height=\"15\" src=\"//upload.wikimedia.org/wikipedia/commons/thumb/f/ff/Flag_of_Serbia.svg/23px-Flag_of_Serbia.svg.png\" srcset=\"//upload.wikimedia.org/wikipedia/commons/thumb/f/ff/Flag_of_Serbia.svg/35px-Flag_of_Serbia.svg.png 1.5x, //upload.wikimedia.org/wikipedia/commons/thumb/f/ff/Flag_of_Serbia.svg/45px-Flag_of_Serbia.svg.png 2x\" width=\"23\"/> </span><a href=\"/wiki/Serbia\" title=\"Serbia\">Serbia</a></td>\n",
       "<td>75.2\n",
       "</td></tr>\n",
       "<tr>\n",
       "<td>37\n",
       "</td>\n",
       "<td><span class=\"flagicon\"><img alt=\"\" class=\"thumbborder\" data-file-height=\"400\" data-file-width=\"600\" decoding=\"async\" height=\"15\" src=\"//upload.wikimedia.org/wikipedia/commons/thumb/7/73/Flag_of_Romania.svg/23px-Flag_of_Romania.svg.png\" srcset=\"//upload.wikimedia.org/wikipedia/commons/thumb/7/73/Flag_of_Romania.svg/35px-Flag_of_Romania.svg.png 1.5x, //upload.wikimedia.org/wikipedia/commons/thumb/7/73/Flag_of_Romania.svg/45px-Flag_of_Romania.svg.png 2x\" width=\"23\"/> </span><a href=\"/wiki/Romania\" title=\"Romania\">Romania</a></td>\n",
       "<td>75.0\n",
       "</td></tr>\n",
       "<tr>\n",
       "<td>38\n",
       "</td>\n",
       "<td><span class=\"flagicon\"><img alt=\"\" class=\"thumbborder\" data-file-height=\"600\" data-file-width=\"1000\" decoding=\"async\" height=\"14\" src=\"//upload.wikimedia.org/wikipedia/commons/thumb/9/9a/Flag_of_Bulgaria.svg/23px-Flag_of_Bulgaria.svg.png\" srcset=\"//upload.wikimedia.org/wikipedia/commons/thumb/9/9a/Flag_of_Bulgaria.svg/35px-Flag_of_Bulgaria.svg.png 1.5x, //upload.wikimedia.org/wikipedia/commons/thumb/9/9a/Flag_of_Bulgaria.svg/46px-Flag_of_Bulgaria.svg.png 2x\" width=\"23\"/> </span><a href=\"/wiki/Bulgaria\" title=\"Bulgaria\">Bulgaria</a></td>\n",
       "<td>74.6\n",
       "</td></tr>\n",
       "<tr>\n",
       "<td>39\n",
       "</td>\n",
       "<td><span class=\"flagicon\"><img alt=\"\" class=\"thumbborder\" data-file-height=\"600\" data-file-width=\"1200\" decoding=\"async\" height=\"12\" src=\"//upload.wikimedia.org/wikipedia/commons/thumb/8/84/Flag_of_Latvia.svg/23px-Flag_of_Latvia.svg.png\" srcset=\"//upload.wikimedia.org/wikipedia/commons/thumb/8/84/Flag_of_Latvia.svg/35px-Flag_of_Latvia.svg.png 1.5x, //upload.wikimedia.org/wikipedia/commons/thumb/8/84/Flag_of_Latvia.svg/46px-Flag_of_Latvia.svg.png 2x\" width=\"23\"/> </span><a href=\"/wiki/Latvia\" title=\"Latvia\">Latvia</a></td>\n",
       "<td>74.5\n",
       "</td></tr>\n",
       "<tr>\n",
       "<td>40\n",
       "</td>\n",
       "<td><span class=\"flagicon\"><img alt=\"\" class=\"thumbborder\" data-file-height=\"600\" data-file-width=\"1000\" decoding=\"async\" height=\"14\" src=\"//upload.wikimedia.org/wikipedia/commons/thumb/1/11/Flag_of_Lithuania.svg/23px-Flag_of_Lithuania.svg.png\" srcset=\"//upload.wikimedia.org/wikipedia/commons/thumb/1/11/Flag_of_Lithuania.svg/35px-Flag_of_Lithuania.svg.png 1.5x, //upload.wikimedia.org/wikipedia/commons/thumb/1/11/Flag_of_Lithuania.svg/46px-Flag_of_Lithuania.svg.png 2x\" width=\"23\"/> </span><a href=\"/wiki/Lithuania\" title=\"Lithuania\">Lithuania</a></td>\n",
       "<td>74.3\n",
       "</td></tr>\n",
       "<tr>\n",
       "<td>41\n",
       "</td>\n",
       "<td><span class=\"flagicon\"><img alt=\"\" class=\"thumbborder\" data-file-height=\"450\" data-file-width=\"900\" decoding=\"async\" height=\"12\" src=\"//upload.wikimedia.org/wikipedia/commons/thumb/8/85/Flag_of_Belarus.svg/23px-Flag_of_Belarus.svg.png\" srcset=\"//upload.wikimedia.org/wikipedia/commons/thumb/8/85/Flag_of_Belarus.svg/35px-Flag_of_Belarus.svg.png 1.5x, //upload.wikimedia.org/wikipedia/commons/thumb/8/85/Flag_of_Belarus.svg/46px-Flag_of_Belarus.svg.png 2x\" width=\"23\"/> </span><a href=\"/wiki/Belarus\" title=\"Belarus\">Belarus</a></td>\n",
       "<td>73.8\n",
       "</td></tr>\n",
       "<tr>\n",
       "<td>42\n",
       "</td>\n",
       "<td><span class=\"flagicon\"><img alt=\"\" class=\"thumbborder\" data-file-height=\"500\" data-file-width=\"1000\" decoding=\"async\" height=\"12\" src=\"//upload.wikimedia.org/wikipedia/commons/thumb/d/d3/Flag_of_Kazakhstan.svg/23px-Flag_of_Kazakhstan.svg.png\" srcset=\"//upload.wikimedia.org/wikipedia/commons/thumb/d/d3/Flag_of_Kazakhstan.svg/35px-Flag_of_Kazakhstan.svg.png 1.5x, //upload.wikimedia.org/wikipedia/commons/thumb/d/d3/Flag_of_Kazakhstan.svg/46px-Flag_of_Kazakhstan.svg.png 2x\" width=\"23\"/> </span><a href=\"/wiki/Kazakhstan\" title=\"Kazakhstan\">Kazakhstan</a></td>\n",
       "<td>72.3\n",
       "</td></tr>\n",
       "<tr>\n",
       "<td>43\n",
       "</td>\n",
       "<td><span class=\"flagicon\"><img alt=\"\" class=\"thumbborder\" data-file-height=\"900\" data-file-width=\"1800\" decoding=\"async\" height=\"12\" src=\"//upload.wikimedia.org/wikipedia/commons/thumb/2/27/Flag_of_Moldova.svg/23px-Flag_of_Moldova.svg.png\" srcset=\"//upload.wikimedia.org/wikipedia/commons/thumb/2/27/Flag_of_Moldova.svg/35px-Flag_of_Moldova.svg.png 1.5x, //upload.wikimedia.org/wikipedia/commons/thumb/2/27/Flag_of_Moldova.svg/46px-Flag_of_Moldova.svg.png 2x\" width=\"23\"/> </span><a href=\"/wiki/Moldova\" title=\"Moldova\">Moldova</a></td>\n",
       "<td>71.6\n",
       "</td></tr>\n",
       "<tr>\n",
       "<td>44\n",
       "</td>\n",
       "<td><span class=\"flagicon\"><img alt=\"\" class=\"thumbborder\" data-file-height=\"600\" data-file-width=\"900\" decoding=\"async\" height=\"15\" src=\"//upload.wikimedia.org/wikipedia/en/thumb/f/f3/Flag_of_Russia.svg/23px-Flag_of_Russia.svg.png\" srcset=\"//upload.wikimedia.org/wikipedia/en/thumb/f/f3/Flag_of_Russia.svg/35px-Flag_of_Russia.svg.png 1.5x, //upload.wikimedia.org/wikipedia/en/thumb/f/f3/Flag_of_Russia.svg/45px-Flag_of_Russia.svg.png 2x\" width=\"23\"/> </span><a href=\"/wiki/Russia\" title=\"Russia\">Russia</a></td>\n",
       "<td>71.6\n",
       "</td></tr>\n",
       "<tr>\n",
       "<td>45\n",
       "</td>\n",
       "<td><span class=\"flagicon\"><img alt=\"\" class=\"thumbborder\" data-file-height=\"800\" data-file-width=\"1200\" decoding=\"async\" height=\"15\" src=\"//upload.wikimedia.org/wikipedia/commons/thumb/4/49/Flag_of_Ukraine.svg/23px-Flag_of_Ukraine.svg.png\" srcset=\"//upload.wikimedia.org/wikipedia/commons/thumb/4/49/Flag_of_Ukraine.svg/35px-Flag_of_Ukraine.svg.png 1.5x, //upload.wikimedia.org/wikipedia/commons/thumb/4/49/Flag_of_Ukraine.svg/45px-Flag_of_Ukraine.svg.png 2x\" width=\"23\"/> </span><a href=\"/wiki/Ukraine\" title=\"Ukraine\">Ukraine</a></td>\n",
       "<td>71.5\n",
       "</td></tr>\n",
       "</tbody></table>"
      ]
     },
     "execution_count": 10,
     "metadata": {},
     "output_type": "execute_result"
    }
   ],
   "source": [
    "table=soup.find_all('table',{'class':'sortable wikitable'})[0]\n",
    "table"
   ]
  },
  {
   "cell_type": "code",
   "execution_count": null,
   "metadata": {},
   "outputs": [],
   "source": [
    "rows=table.find_all('tr')"
   ]
  },
  {
   "cell_type": "code",
   "execution_count": null,
   "metadata": {},
   "outputs": [],
   "source": [
    "table=[[cell.strip() for cell in row.text.strip().split('\\n') if cell.strip()!=''] for row in rows]"
   ]
  },
  {
   "cell_type": "code",
   "execution_count": null,
   "metadata": {},
   "outputs": [],
   "source": [
    "pd.DataFrame(table[1:],columns=table[0])"
   ]
  },
  {
   "cell_type": "code",
   "execution_count": null,
   "metadata": {},
   "outputs": [],
   "source": [
    "url='https://en.wikipedia.org/wiki/List_of_countries_and_dependencies_by_population_density'"
   ]
  },
  {
   "cell_type": "code",
   "execution_count": null,
   "metadata": {},
   "outputs": [],
   "source": [
    "html=r.get(url).content"
   ]
  },
  {
   "cell_type": "code",
   "execution_count": null,
   "metadata": {},
   "outputs": [],
   "source": [
    "soup=BeautifulSoup(html)"
   ]
  },
  {
   "cell_type": "code",
   "execution_count": null,
   "metadata": {},
   "outputs": [],
   "source": [
    "soup.select('table+h2+p+table')"
   ]
  },
  {
   "cell_type": "code",
   "execution_count": null,
   "metadata": {},
   "outputs": [],
   "source": []
  },
  {
   "cell_type": "markdown",
   "metadata": {},
   "source": [
    "# Lab"
   ]
  },
  {
   "cell_type": "code",
   "execution_count": null,
   "metadata": {},
   "outputs": [],
   "source": [
    "import requests\n",
    "from bs4 import BeautifulSoup\n",
    "import pandas as pd\n",
    "\n",
    "url = 'https://github.com/trending/developers'\n"
   ]
  },
  {
   "cell_type": "code",
   "execution_count": null,
   "metadata": {},
   "outputs": [],
   "source": [
    "response=requests.get(url).content"
   ]
  },
  {
   "cell_type": "code",
   "execution_count": null,
   "metadata": {},
   "outputs": [],
   "source": [
    "soup=BeautifulSoup(response)"
   ]
  },
  {
   "cell_type": "code",
   "execution_count": null,
   "metadata": {},
   "outputs": [],
   "source": [
    "[f\"{i.text.strip()} ({i['href'].lstrip('/')})\" for i in soup.select('h1.h3>a')]"
   ]
  },
  {
   "cell_type": "code",
   "execution_count": null,
   "metadata": {},
   "outputs": [],
   "source": [
    "texts=[i.text.strip() for i in soup.select('h1.h3,p.f4>a')]"
   ]
  },
  {
   "cell_type": "code",
   "execution_count": null,
   "metadata": {},
   "outputs": [],
   "source": [
    "[(texts[i],texts[i+1]) for i in range(0,len(texts),2)]"
   ]
  },
  {
   "cell_type": "code",
   "execution_count": null,
   "metadata": {},
   "outputs": [],
   "source": [
    "url = 'https://github.com/trending/python?since=daily'"
   ]
  },
  {
   "cell_type": "code",
   "execution_count": null,
   "metadata": {},
   "outputs": [],
   "source": [
    "response=requests.get(url).content\n",
    "soup=BeautifulSoup(response)"
   ]
  },
  {
   "cell_type": "code",
   "execution_count": null,
   "metadata": {},
   "outputs": [],
   "source": [
    "[i.text.strip().split()[2] for i in soup.select('h1.h3>a')]"
   ]
  },
  {
   "cell_type": "code",
   "execution_count": null,
   "metadata": {},
   "outputs": [],
   "source": [
    "url = 'https://en.wikipedia.org/wiki/Walt_Disney'"
   ]
  },
  {
   "cell_type": "code",
   "execution_count": null,
   "metadata": {},
   "outputs": [],
   "source": [
    "response=requests.get(url).content\n",
    "soup=BeautifulSoup(response)"
   ]
  },
  {
   "cell_type": "code",
   "execution_count": null,
   "metadata": {},
   "outputs": [],
   "source": [
    "[i['src'] for i in soup.select('img')]"
   ]
  }
 ],
 "metadata": {
  "kernelspec": {
   "display_name": "Python 3",
   "language": "python",
   "name": "python3"
  },
  "language_info": {
   "codemirror_mode": {
    "name": "ipython",
    "version": 3
   },
   "file_extension": ".py",
   "mimetype": "text/x-python",
   "name": "python",
   "nbconvert_exporter": "python",
   "pygments_lexer": "ipython3",
   "version": "3.7.4"
  },
  "varInspector": {
   "cols": {
    "lenName": 16,
    "lenType": 16,
    "lenVar": 40
   },
   "kernels_config": {
    "python": {
     "delete_cmd_postfix": "",
     "delete_cmd_prefix": "del ",
     "library": "var_list.py",
     "varRefreshCmd": "print(var_dic_list())"
    },
    "r": {
     "delete_cmd_postfix": ") ",
     "delete_cmd_prefix": "rm(",
     "library": "var_list.r",
     "varRefreshCmd": "cat(var_dic_list()) "
    }
   },
   "types_to_exclude": [
    "module",
    "function",
    "builtin_function_or_method",
    "instance",
    "_Feature"
   ],
   "window_display": false
  }
 },
 "nbformat": 4,
 "nbformat_minor": 2
}
